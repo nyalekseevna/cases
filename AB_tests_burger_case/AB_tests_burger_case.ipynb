{
 "cells": [
  {
   "cell_type": "code",
   "execution_count": 1,
   "metadata": {},
   "outputs": [],
   "source": [
    "import pandas as pd\n",
    "import numpy as np\n",
    "import matplotlib.pyplot as plt\n",
    "import seaborn as sns\n",
    "from scipy import stats as st\n",
    "import math"
   ]
  },
  {
   "cell_type": "markdown",
   "metadata": {},
   "source": [
    "Представьте, что вы работаете аналитиком, и к вам приходит заказчик с просьбой подготовить анализ проведенного АБ теста.\n",
    "\n",
    "Механика: при покупке чизбургера в составе комбо клиент получает бонусные баллы по программе лояльности в моб. приложении, которые может в дальнейшем тратить при оплате покупок в Бургер Кинге, т.е. получает cashback в виде баллов.\n",
    "\n",
    "Заказчик хочет видеть влияние от запуска акции на основные показатели: \n",
    "\n",
    "* **ARS** - average retail sales (средняя выручка в день на ресторан, руб)\n",
    "* **ART** - average retail traffic (среднее кол-во чеков в день на ресторан)\n",
    "* **ARC** - average retail check (средний чек в день на ресторан, руб)\n",
    "* **GP**  - gross profit (маржа в день на ресторан, руб)\n",
    "\n",
    "Он так же просит проверить **изменение средней доли продаж чизбургера**."
   ]
  },
  {
   "cell_type": "code",
   "execution_count": 77,
   "metadata": {},
   "outputs": [
    {
     "data": {
      "text/html": [
       "<div>\n",
       "<style scoped>\n",
       "    .dataframe tbody tr th:only-of-type {\n",
       "        vertical-align: middle;\n",
       "    }\n",
       "\n",
       "    .dataframe tbody tr th {\n",
       "        vertical-align: top;\n",
       "    }\n",
       "\n",
       "    .dataframe thead th {\n",
       "        text-align: right;\n",
       "    }\n",
       "</style>\n",
       "<table border=\"1\" class=\"dataframe\">\n",
       "  <thead>\n",
       "    <tr style=\"text-align: right;\">\n",
       "      <th></th>\n",
       "      <th>day_id</th>\n",
       "      <th>channel_name</th>\n",
       "      <th>ars</th>\n",
       "      <th>art</th>\n",
       "      <th>art_qnty</th>\n",
       "      <th>gp</th>\n",
       "      <th>food_cost</th>\n",
       "      <th>sales</th>\n",
       "      <th>checks</th>\n",
       "      <th>rest_id</th>\n",
       "      <th>period</th>\n",
       "      <th>group</th>\n",
       "      <th>menu</th>\n",
       "      <th>index</th>\n",
       "      <th>avg_check</th>\n",
       "    </tr>\n",
       "  </thead>\n",
       "  <tbody>\n",
       "    <tr>\n",
       "      <th>0</th>\n",
       "      <td>2021-01-01</td>\n",
       "      <td>Касса</td>\n",
       "      <td>50643.72</td>\n",
       "      <td>145.96</td>\n",
       "      <td>316071.73</td>\n",
       "      <td>12122695.78</td>\n",
       "      <td>7737517.61</td>\n",
       "      <td>22789673.94</td>\n",
       "      <td>65681.38</td>\n",
       "      <td>450</td>\n",
       "      <td>Pre</td>\n",
       "      <td>ТГ</td>\n",
       "      <td>all</td>\n",
       "      <td>0</td>\n",
       "      <td>346.97</td>\n",
       "    </tr>\n",
       "    <tr>\n",
       "      <th>2</th>\n",
       "      <td>2021-01-02</td>\n",
       "      <td>Касса</td>\n",
       "      <td>88517.38</td>\n",
       "      <td>226.84</td>\n",
       "      <td>790051.60</td>\n",
       "      <td>30920374.44</td>\n",
       "      <td>19586334.31</td>\n",
       "      <td>58067401.35</td>\n",
       "      <td>148806.36</td>\n",
       "      <td>656</td>\n",
       "      <td>Pre</td>\n",
       "      <td>ТГ</td>\n",
       "      <td>all</td>\n",
       "      <td>2</td>\n",
       "      <td>390.22</td>\n",
       "    </tr>\n",
       "    <tr>\n",
       "      <th>3</th>\n",
       "      <td>2021-01-02</td>\n",
       "      <td>Приложение</td>\n",
       "      <td>19118.20</td>\n",
       "      <td>51.92</td>\n",
       "      <td>228941.89</td>\n",
       "      <td>7527269.70</td>\n",
       "      <td>5695808.70</td>\n",
       "      <td>15122500.12</td>\n",
       "      <td>41069.01</td>\n",
       "      <td>660</td>\n",
       "      <td>Pre</td>\n",
       "      <td>ТГ</td>\n",
       "      <td>all</td>\n",
       "      <td>3</td>\n",
       "      <td>368.22</td>\n",
       "    </tr>\n",
       "    <tr>\n",
       "      <th>4</th>\n",
       "      <td>2021-01-03</td>\n",
       "      <td>Касса</td>\n",
       "      <td>94474.44</td>\n",
       "      <td>238.10</td>\n",
       "      <td>851088.66</td>\n",
       "      <td>33343935.98</td>\n",
       "      <td>21200775.77</td>\n",
       "      <td>62731029.00</td>\n",
       "      <td>158100.73</td>\n",
       "      <td>664</td>\n",
       "      <td>Pre</td>\n",
       "      <td>ТГ</td>\n",
       "      <td>all</td>\n",
       "      <td>4</td>\n",
       "      <td>396.78</td>\n",
       "    </tr>\n",
       "    <tr>\n",
       "      <th>5</th>\n",
       "      <td>2021-01-03</td>\n",
       "      <td>Приложение</td>\n",
       "      <td>21404.27</td>\n",
       "      <td>57.93</td>\n",
       "      <td>263331.03</td>\n",
       "      <td>8583220.46</td>\n",
       "      <td>6573242.66</td>\n",
       "      <td>17337455.67</td>\n",
       "      <td>46922.54</td>\n",
       "      <td>672</td>\n",
       "      <td>Pre</td>\n",
       "      <td>ТГ</td>\n",
       "      <td>all</td>\n",
       "      <td>5</td>\n",
       "      <td>369.49</td>\n",
       "    </tr>\n",
       "  </tbody>\n",
       "</table>\n",
       "</div>"
      ],
      "text/plain": [
       "      day_id channel_name       ars     art   art_qnty           gp  \\\n",
       "0 2021-01-01        Касса  50643.72  145.96  316071.73  12122695.78   \n",
       "2 2021-01-02        Касса  88517.38  226.84  790051.60  30920374.44   \n",
       "3 2021-01-02   Приложение  19118.20   51.92  228941.89   7527269.70   \n",
       "4 2021-01-03        Касса  94474.44  238.10  851088.66  33343935.98   \n",
       "5 2021-01-03   Приложение  21404.27   57.93  263331.03   8583220.46   \n",
       "\n",
       "     food_cost        sales     checks  rest_id period group menu  index  \\\n",
       "0   7737517.61  22789673.94   65681.38      450    Pre    ТГ  all      0   \n",
       "2  19586334.31  58067401.35  148806.36      656    Pre    ТГ  all      2   \n",
       "3   5695808.70  15122500.12   41069.01      660    Pre    ТГ  all      3   \n",
       "4  21200775.77  62731029.00  158100.73      664    Pre    ТГ  all      4   \n",
       "5   6573242.66  17337455.67   46922.54      672    Pre    ТГ  all      5   \n",
       "\n",
       "   avg_check  \n",
       "0     346.97  \n",
       "2     390.22  \n",
       "3     368.22  \n",
       "4     396.78  \n",
       "5     369.49  "
      ]
     },
     "execution_count": 77,
     "metadata": {},
     "output_type": "execute_result"
    }
   ],
   "source": [
    "ars.head()"
   ]
  },
  {
   "cell_type": "code",
   "execution_count": 78,
   "metadata": {},
   "outputs": [
    {
     "data": {
      "text/html": [
       "<div>\n",
       "<style scoped>\n",
       "    .dataframe tbody tr th:only-of-type {\n",
       "        vertical-align: middle;\n",
       "    }\n",
       "\n",
       "    .dataframe tbody tr th {\n",
       "        vertical-align: top;\n",
       "    }\n",
       "\n",
       "    .dataframe thead th {\n",
       "        text-align: right;\n",
       "    }\n",
       "</style>\n",
       "<table border=\"1\" class=\"dataframe\">\n",
       "  <thead>\n",
       "    <tr style=\"text-align: right;\">\n",
       "      <th></th>\n",
       "      <th>day_id</th>\n",
       "      <th>channel_name</th>\n",
       "      <th>action_id</th>\n",
       "      <th>dish_name</th>\n",
       "      <th>market_group</th>\n",
       "      <th>auv</th>\n",
       "      <th>art_qnty</th>\n",
       "      <th>gp</th>\n",
       "      <th>food_cost</th>\n",
       "      <th>sales</th>\n",
       "      <th>period</th>\n",
       "      <th>group</th>\n",
       "      <th>rest_id</th>\n",
       "      <th>index</th>\n",
       "      <th>cheese</th>\n",
       "    </tr>\n",
       "  </thead>\n",
       "  <tbody>\n",
       "    <tr>\n",
       "      <th>0</th>\n",
       "      <td>2021-01-01</td>\n",
       "      <td>Касса</td>\n",
       "      <td>0</td>\n",
       "      <td>БИГ КИНГ ТРЮФЕЛЬ</td>\n",
       "      <td>Основные</td>\n",
       "      <td>2.41</td>\n",
       "      <td>108.34</td>\n",
       "      <td>11192.00</td>\n",
       "      <td>6745.20</td>\n",
       "      <td>20126.11</td>\n",
       "      <td>Pre</td>\n",
       "      <td>ТГ</td>\n",
       "      <td>450</td>\n",
       "      <td>0</td>\n",
       "      <td>0</td>\n",
       "    </tr>\n",
       "    <tr>\n",
       "      <th>1</th>\n",
       "      <td>2021-01-01</td>\n",
       "      <td>Касса</td>\n",
       "      <td>0</td>\n",
       "      <td>Балтика 0 Безалкогольное</td>\n",
       "      <td>Напитки</td>\n",
       "      <td>1.41</td>\n",
       "      <td>66.09</td>\n",
       "      <td>2902.45</td>\n",
       "      <td>2596.23</td>\n",
       "      <td>6598.47</td>\n",
       "      <td>Pre</td>\n",
       "      <td>ТГ</td>\n",
       "      <td>450</td>\n",
       "      <td>1</td>\n",
       "      <td>0</td>\n",
       "    </tr>\n",
       "    <tr>\n",
       "      <th>2</th>\n",
       "      <td>2021-01-01</td>\n",
       "      <td>Касса</td>\n",
       "      <td>0</td>\n",
       "      <td>Балтика 0 Грейпфрут Безалкогольное</td>\n",
       "      <td>Напитки</td>\n",
       "      <td>1.42</td>\n",
       "      <td>36.84</td>\n",
       "      <td>1623.46</td>\n",
       "      <td>1439.24</td>\n",
       "      <td>3675.30</td>\n",
       "      <td>Pre</td>\n",
       "      <td>ТГ</td>\n",
       "      <td>450</td>\n",
       "      <td>2</td>\n",
       "      <td>0</td>\n",
       "    </tr>\n",
       "    <tr>\n",
       "      <th>3</th>\n",
       "      <td>2021-01-01</td>\n",
       "      <td>Касса</td>\n",
       "      <td>0</td>\n",
       "      <td>Беконайзер</td>\n",
       "      <td>Премиальные</td>\n",
       "      <td>2.66</td>\n",
       "      <td>820.12</td>\n",
       "      <td>130284.25</td>\n",
       "      <td>93978.19</td>\n",
       "      <td>250938.10</td>\n",
       "      <td>Pre</td>\n",
       "      <td>ТГ</td>\n",
       "      <td>450</td>\n",
       "      <td>3</td>\n",
       "      <td>0</td>\n",
       "    </tr>\n",
       "    <tr>\n",
       "      <th>4</th>\n",
       "      <td>2021-01-01</td>\n",
       "      <td>Касса</td>\n",
       "      <td>0</td>\n",
       "      <td>Биг Кинг</td>\n",
       "      <td>Основные</td>\n",
       "      <td>3.20</td>\n",
       "      <td>963.13</td>\n",
       "      <td>72661.06</td>\n",
       "      <td>52040.32</td>\n",
       "      <td>138555.61</td>\n",
       "      <td>Pre</td>\n",
       "      <td>ТГ</td>\n",
       "      <td>450</td>\n",
       "      <td>4</td>\n",
       "      <td>0</td>\n",
       "    </tr>\n",
       "  </tbody>\n",
       "</table>\n",
       "</div>"
      ],
      "text/plain": [
       "      day_id channel_name  action_id                           dish_name  \\\n",
       "0 2021-01-01        Касса          0                    БИГ КИНГ ТРЮФЕЛЬ   \n",
       "1 2021-01-01        Касса          0            Балтика 0 Безалкогольное   \n",
       "2 2021-01-01        Касса          0  Балтика 0 Грейпфрут Безалкогольное   \n",
       "3 2021-01-01        Касса          0                          Беконайзер   \n",
       "4 2021-01-01        Касса          0                            Биг Кинг   \n",
       "\n",
       "  market_group   auv  art_qnty         gp  food_cost      sales period group  \\\n",
       "0     Основные  2.41    108.34   11192.00    6745.20   20126.11    Pre    ТГ   \n",
       "1      Напитки  1.41     66.09    2902.45    2596.23    6598.47    Pre    ТГ   \n",
       "2      Напитки  1.42     36.84    1623.46    1439.24    3675.30    Pre    ТГ   \n",
       "3  Премиальные  2.66    820.12  130284.25   93978.19  250938.10    Pre    ТГ   \n",
       "4     Основные  3.20    963.13   72661.06   52040.32  138555.61    Pre    ТГ   \n",
       "\n",
       "   rest_id  index  cheese  \n",
       "0      450      0       0  \n",
       "1      450      1       0  \n",
       "2      450      2       0  \n",
       "3      450      3       0  \n",
       "4      450      4       0  "
      ]
     },
     "execution_count": 78,
     "metadata": {},
     "output_type": "execute_result"
    }
   ],
   "source": [
    "auv.head()"
   ]
  },
  {
   "cell_type": "markdown",
   "metadata": {},
   "source": [
    "\n",
    "Итак, у нас есть два датасета с продажами касс и моб. приложения:\n",
    "\n",
    "* ars - данные на уровне день-ресторан\n",
    "* auv - данные на уровне день-артикул\n",
    "\n",
    "Атрибуты:\n",
    "\n",
    "*  **dai_id** - день\n",
    "* **REST_ID** - id ресторана\n",
    "* **channel_name** - канал продаж\n",
    "* **action_id** - отдельная покупка или в составе комбо (0 - отдельная, 1 - комбо)\n",
    "* **dish_name** - названия блюда, артикула\n",
    "* **market_group** - категории блюд\n",
    "* **period** - указание периода теста, где \"pre\" до начала запуска теста, и \"post\", соответственно, после запуска\n",
    "* **group** - контрольная/тестовая группы, где  контрольная осталась без зименений, и в тестовой был запуск акции\n",
    "\n",
    "Метрики:\n",
    "\n",
    "* **ARS** - average retail sales (средняя выручка в день на ресторан, руб)\n",
    "* **ART** - average retail traffic (среднее кол-во чеков в день на ресторан)\n",
    "* **AUV** - average unit voulme (среднее кол-во проданных едениц в день на ресторан)\n",
    "* **art_qnty** - article_quantity (кол-во проданных едениц в день)\n",
    "* **GP** - gross_profit (маржа = продажи - себестоимость)\n",
    "* **food_cost** - себестоимость, руб\n",
    "* **sales** - продажи, руб\n",
    "* **checks** - кол-во чеков"
   ]
  },
  {
   "cell_type": "markdown",
   "metadata": {},
   "source": [
    "### План работы:  \n",
    "- [Загрузка и предобработка данных](#step1)\n",
    "- [Исследовательский анализ данных:](#step2)\n",
    "    - [Поиск аномалий](#step3)\n",
    "    - [Анализ показателей до и после запуска теста:](#step4)\n",
    "        - [ARS - average retail sales (средняя выручка в день на ресторан, руб)](#step5)\n",
    "        - [ART - average retail traffic (среднее кол-во чеков в день на ресторан)](#step6)\n",
    "        - [ARC - average retail check (средний чек в день на ресторан, руб)](#step7)\n",
    "        - [GP - gross profit (маржа в день на ресторан, руб)](#step8)\n",
    "        - [Изменение средней доли продаж чизбургера](#step9)\n",
    "        - [\"Конверсия в комбо-чизбургеры\" (долю чизбургров в составе комбо)](#step10)\n",
    "- [Проверка гипотез:](#step11)\n",
    "    - [Z - критерий для разницы долей покупок чизбургеров в комбо](#step12)\n",
    "    - [Непараметрический тест Уилкоксона-Манна-Уитни:](#step13)\n",
    "        - [ARS - average retail sales (средняя выручка в день на ресторан, руб)](#step14)\n",
    "        - [ART - average retail traffic (среднее кол-во чеков в день на ресторан)](#step15)\n",
    "        - [ARC - average retail check (средний чек в день на ресторан, руб)](#step16)\n",
    "        - [GP - gross profit (маржа в день на ресторан, руб)](#step17)\n",
    "        - [Изменение средней доли продаж чизбургера](#step18)\n",
    "- [Вывод](#step19)"
   ]
  },
  {
   "cell_type": "markdown",
   "metadata": {},
   "source": [
    "## Загрузка и предобработка данных<a id=\"step1\">"
   ]
  },
  {
   "cell_type": "code",
   "execution_count": 7,
   "metadata": {},
   "outputs": [],
   "source": [
    "ars = pd.read_csv('interview_case_BK_ars').drop(columns='Unnamed: 0')\n",
    "auv = pd.read_csv('interview_case_BK_auv').drop(columns='Unnamed: 0')"
   ]
  },
  {
   "cell_type": "code",
   "execution_count": 8,
   "metadata": {},
   "outputs": [
    {
     "name": "stdout",
     "output_type": "stream",
     "text": [
      "<class 'pandas.core.frame.DataFrame'>\n",
      "RangeIndex: 122 entries, 0 to 121\n",
      "Data columns (total 13 columns):\n",
      " #   Column        Non-Null Count  Dtype  \n",
      "---  ------        --------------  -----  \n",
      " 0   DAY_ID        122 non-null    object \n",
      " 1   channel_name  122 non-null    object \n",
      " 2   ARS           122 non-null    float64\n",
      " 3   ART           122 non-null    float64\n",
      " 4   art_qnty      122 non-null    float64\n",
      " 5   GP            122 non-null    float64\n",
      " 6   food_cost     122 non-null    float64\n",
      " 7   sales         122 non-null    float64\n",
      " 8   checks        122 non-null    float64\n",
      " 9   REST_ID       122 non-null    int64  \n",
      " 10  period        122 non-null    object \n",
      " 11  group         122 non-null    object \n",
      " 12  menu          122 non-null    object \n",
      "dtypes: float64(7), int64(1), object(5)\n",
      "memory usage: 12.5+ KB\n"
     ]
    }
   ],
   "source": [
    "ars.info()"
   ]
  },
  {
   "cell_type": "code",
   "execution_count": 9,
   "metadata": {},
   "outputs": [
    {
     "name": "stdout",
     "output_type": "stream",
     "text": [
      "<class 'pandas.core.frame.DataFrame'>\n",
      "RangeIndex: 34126 entries, 0 to 34125\n",
      "Data columns (total 12 columns):\n",
      " #   Column        Non-Null Count  Dtype  \n",
      "---  ------        --------------  -----  \n",
      " 0   day_id        34126 non-null  object \n",
      " 1   channel_name  34126 non-null  object \n",
      " 2   action_id     34126 non-null  int64  \n",
      " 3   dish_name     34126 non-null  object \n",
      " 4   market_group  34126 non-null  object \n",
      " 5   AUV           34126 non-null  float64\n",
      " 6   art_qnty      34126 non-null  float64\n",
      " 7   GP            34126 non-null  float64\n",
      " 8   food_cost     34126 non-null  float64\n",
      " 9   sales         34126 non-null  float64\n",
      " 10  period        34126 non-null  object \n",
      " 11  group         34126 non-null  object \n",
      "dtypes: float64(5), int64(1), object(6)\n",
      "memory usage: 3.1+ MB\n"
     ]
    }
   ],
   "source": [
    "auv.info()"
   ]
  },
  {
   "cell_type": "markdown",
   "metadata": {},
   "source": [
    "Приведем столбцы с датами к типу datetime. "
   ]
  },
  {
   "cell_type": "code",
   "execution_count": 10,
   "metadata": {},
   "outputs": [],
   "source": [
    "ars['DAY_ID'] = pd.to_datetime(ars['DAY_ID'], format=('%Y-%m-%d'))\n",
    "auv['day_id'] = pd.to_datetime(auv['day_id'], format=('%Y-%m-%d'))"
   ]
  },
  {
   "cell_type": "code",
   "execution_count": 11,
   "metadata": {},
   "outputs": [],
   "source": [
    "#приведем названия столбцов к нижнему регистру\n",
    "ars.columns = ars.columns.str.lower()\n",
    "auv.columns = auv.columns.str.lower()"
   ]
  },
  {
   "cell_type": "markdown",
   "metadata": {},
   "source": [
    "Интервалы совпадают"
   ]
  },
  {
   "cell_type": "markdown",
   "metadata": {},
   "source": [
    "Проверим таблицы на наличие полных дубликатов"
   ]
  },
  {
   "cell_type": "code",
   "execution_count": 12,
   "metadata": {},
   "outputs": [
    {
     "name": "stdout",
     "output_type": "stream",
     "text": [
      "Полных дубликатов:  0\n",
      "Полных дубликатов:  0\n"
     ]
    }
   ],
   "source": [
    "print('Полных дубликатов: ', ars.duplicated().sum())\n",
    "print('Полных дубликатов: ', auv.duplicated().sum())"
   ]
  },
  {
   "cell_type": "markdown",
   "metadata": {},
   "source": [
    "#### Связь двух таблиц "
   ]
  },
  {
   "cell_type": "markdown",
   "metadata": {},
   "source": [
    "Проверим в одном ли временном интервале находятся данные в таблицах"
   ]
  },
  {
   "cell_type": "code",
   "execution_count": 13,
   "metadata": {},
   "outputs": [
    {
     "data": {
      "text/plain": [
       "count                     122\n",
       "unique                     61\n",
       "top       2021-01-12 00:00:00\n",
       "freq                        2\n",
       "first     2021-01-01 00:00:00\n",
       "last      2021-03-02 00:00:00\n",
       "Name: day_id, dtype: object"
      ]
     },
     "execution_count": 13,
     "metadata": {},
     "output_type": "execute_result"
    }
   ],
   "source": [
    "ars['day_id'].describe()"
   ]
  },
  {
   "cell_type": "code",
   "execution_count": 14,
   "metadata": {},
   "outputs": [
    {
     "data": {
      "text/plain": [
       "count                   34126\n",
       "unique                     61\n",
       "top       2021-02-22 00:00:00\n",
       "freq                      571\n",
       "first     2021-01-01 00:00:00\n",
       "last      2021-03-02 00:00:00\n",
       "Name: day_id, dtype: object"
      ]
     },
     "execution_count": 14,
     "metadata": {},
     "output_type": "execute_result"
    }
   ],
   "source": [
    "auv['day_id'].describe()"
   ]
  },
  {
   "cell_type": "code",
   "execution_count": 15,
   "metadata": {},
   "outputs": [
    {
     "data": {
      "text/plain": [
       "1    122\n",
       "Name: index, dtype: int64"
      ]
     },
     "execution_count": 15,
     "metadata": {},
     "output_type": "execute_result"
    }
   ],
   "source": [
    "#проверим соответствует ли количество записей с каналами каждой дате в соотношении 1 касса и 1 приложение\n",
    "#сначала сохраним индекс в столбец, чтобы получить уникальные id строк\n",
    "ars['index'] = ars.index\n",
    "a = ars.groupby(['day_id', 'channel_name']).agg({'index':'nunique'}).reset_index()\n",
    "a['index'].value_counts()"
   ]
  },
  {
   "cell_type": "markdown",
   "metadata": {},
   "source": [
    "Каждой дате в таблице `ars` соответствует 1 запись Касса и 1 запись Приложение.\n",
    "Поэтому делаем вывод, что таблицы `ars` и `auv` связаны составным ключом по столбцам `day_id` и `channel_name`.  \n",
    "Добавим в таблицу `auv` столбец `rest_id` из таблицы `ars`."
   ]
  },
  {
   "cell_type": "code",
   "execution_count": 16,
   "metadata": {},
   "outputs": [
    {
     "data": {
      "text/plain": [
       "41"
      ]
     },
     "execution_count": 16,
     "metadata": {},
     "output_type": "execute_result"
    }
   ],
   "source": [
    "day_channel_rest = ars.loc[:, ['day_id', 'channel_name', 'rest_id']]\n",
    "day_channel_rest['rest_id'].nunique()"
   ]
  },
  {
   "cell_type": "code",
   "execution_count": 17,
   "metadata": {},
   "outputs": [],
   "source": [
    "auv = auv.merge(day_channel_rest, how='left', on=['day_id', 'channel_name'])"
   ]
  },
  {
   "cell_type": "markdown",
   "metadata": {},
   "source": [
    "Посмотрим на количество значений в периодах pre, post. И какие группы в них входят"
   ]
  },
  {
   "cell_type": "code",
   "execution_count": 18,
   "metadata": {},
   "outputs": [
    {
     "data": {
      "text/html": [
       "<div>\n",
       "<style scoped>\n",
       "    .dataframe tbody tr th:only-of-type {\n",
       "        vertical-align: middle;\n",
       "    }\n",
       "\n",
       "    .dataframe tbody tr th {\n",
       "        vertical-align: top;\n",
       "    }\n",
       "\n",
       "    .dataframe thead th {\n",
       "        text-align: right;\n",
       "    }\n",
       "</style>\n",
       "<table border=\"1\" class=\"dataframe\">\n",
       "  <thead>\n",
       "    <tr style=\"text-align: right;\">\n",
       "      <th></th>\n",
       "      <th></th>\n",
       "      <th>index</th>\n",
       "    </tr>\n",
       "    <tr>\n",
       "      <th>period</th>\n",
       "      <th>group</th>\n",
       "      <th></th>\n",
       "    </tr>\n",
       "  </thead>\n",
       "  <tbody>\n",
       "    <tr>\n",
       "      <th>Post</th>\n",
       "      <th>ТГ</th>\n",
       "      <td>60</td>\n",
       "    </tr>\n",
       "    <tr>\n",
       "      <th>Pre</th>\n",
       "      <th>ТГ</th>\n",
       "      <td>62</td>\n",
       "    </tr>\n",
       "  </tbody>\n",
       "</table>\n",
       "</div>"
      ],
      "text/plain": [
       "              index\n",
       "period group       \n",
       "Post   ТГ        60\n",
       "Pre    ТГ        62"
      ]
     },
     "execution_count": 18,
     "metadata": {},
     "output_type": "execute_result"
    }
   ],
   "source": [
    "ars.groupby(['period', 'group']).agg({'index':'count'})"
   ]
  },
  {
   "cell_type": "markdown",
   "metadata": {},
   "source": [
    "Соотношение примерно одинаковое, данные есть только по тестовой группе до и после теста."
   ]
  },
  {
   "cell_type": "markdown",
   "metadata": {},
   "source": [
    "Проверим пересечение rest_id в группах Post и Pre"
   ]
  },
  {
   "cell_type": "code",
   "execution_count": 19,
   "metadata": {},
   "outputs": [
    {
     "data": {
      "text/plain": [
       "9     675\n",
       "13    678\n",
       "14    679\n",
       "15    677\n",
       "18    681\n",
       "dtype: int64"
      ]
     },
     "execution_count": 19,
     "metadata": {},
     "output_type": "execute_result"
    }
   ],
   "source": [
    "a = pd.Series(ars[ars['period'] == 'Post']['rest_id'].unique())\n",
    "b = pd.Series(ars[ars['period'] == 'Pre']['rest_id'].unique())\n",
    "a_b = pd.concat([a, b])\n",
    "a_b[a_b.duplicated() == True]"
   ]
  },
  {
   "cell_type": "code",
   "execution_count": 20,
   "metadata": {},
   "outputs": [
    {
     "data": {
      "text/plain": [
       "count                      62\n",
       "unique                     31\n",
       "top       2021-01-12 00:00:00\n",
       "freq                        2\n",
       "first     2021-01-01 00:00:00\n",
       "last      2021-01-31 00:00:00\n",
       "Name: day_id, dtype: object"
      ]
     },
     "execution_count": 20,
     "metadata": {},
     "output_type": "execute_result"
    }
   ],
   "source": [
    "ars[ars['period']=='Pre']['day_id'].describe()"
   ]
  },
  {
   "cell_type": "code",
   "execution_count": 21,
   "metadata": {},
   "outputs": [
    {
     "data": {
      "text/plain": [
       "count                      60\n",
       "unique                     30\n",
       "top       2021-02-12 00:00:00\n",
       "freq                        2\n",
       "first     2021-02-01 00:00:00\n",
       "last      2021-03-02 00:00:00\n",
       "Name: day_id, dtype: object"
      ]
     },
     "execution_count": 21,
     "metadata": {},
     "output_type": "execute_result"
    }
   ],
   "source": [
    "ars[ars['period']=='Post']['day_id'].describe()"
   ]
  },
  {
   "cell_type": "markdown",
   "metadata": {},
   "source": [
    "Пересечения есть, но так как даты периодов не пересекаются, это неважно."
   ]
  },
  {
   "cell_type": "markdown",
   "metadata": {},
   "source": [
    "## Исследовательский анализ данных<a id=\"step2\">"
   ]
  },
  {
   "cell_type": "markdown",
   "metadata": {},
   "source": [
    "### Поиск аномалий<a id=\"step3\">"
   ]
  },
  {
   "cell_type": "markdown",
   "metadata": {},
   "source": [
    "Так как аномальные значения могут сильно исказить тезультаты теста, их следует исключить.  \n",
    "Искать будем только в таблице `auv`, так как там много информации по транзакциям. А в таблице `ars` уже агрегорованные данные и всего 122 строки, будем считать, что они уже предобработаны и не содержат аномалии.\n",
    "Проверять будем среднее кол-во проданных едениц продукции в день на ресторан `auv`.   \n",
    "Для этого посмотрим на распределение этих значений и посчитаем выборочные перцентили."
   ]
  },
  {
   "cell_type": "markdown",
   "metadata": {},
   "source": [
    "#### Для продаж через кассу"
   ]
  },
  {
   "cell_type": "code",
   "execution_count": 22,
   "metadata": {},
   "outputs": [
    {
     "data": {
      "image/png": "[encoded data removed]",
      "text/plain": [
       "<Figure size 432x288 with 1 Axes>"
      ]
     },
     "metadata": {
      "needs_background": "light"
     },
     "output_type": "display_data"
    }
   ],
   "source": [
    "auv[auv['channel_name'] == 'Касса']['auv'].hist();"
   ]
  },
  {
   "cell_type": "code",
   "execution_count": 23,
   "metadata": {
    "scrolled": true
   },
   "outputs": [
    {
     "data": {
      "image/png": "[encoded data removed]",
      "text/plain": [
       "<Figure size 432x288 with 1 Axes>"
      ]
     },
     "metadata": {
      "needs_background": "light"
     },
     "output_type": "display_data"
    }
   ],
   "source": [
    "y_c = auv[auv['channel_name'] == 'Касса']['auv']\n",
    "x_values = pd.Series(range(0, len(y_c)))\n",
    "plt.scatter(x_values, y_c);"
   ]
  },
  {
   "cell_type": "markdown",
   "metadata": {},
   "source": [
    "На графиках видно, что в данных есть аномальные значения.  \n",
    "Посчитаем процентиль, чтобы определить верхнюю границу значений"
   ]
  },
  {
   "cell_type": "code",
   "execution_count": 24,
   "metadata": {},
   "outputs": [
    {
     "data": {
      "text/plain": [
       "array([19.69 , 28.862, 47.042])"
      ]
     },
     "execution_count": 24,
     "metadata": {},
     "output_type": "execute_result"
    }
   ],
   "source": [
    "np.percentile(y_c, [95, 97, 99])"
   ]
  },
  {
   "cell_type": "markdown",
   "metadata": {},
   "source": [
    "97% записей продаж через Кассы содержат не более 28 чизбургеров в день на ресторан. Будем считать это верхней границей. Удалим те строки, которые выше нее.  "
   ]
  },
  {
   "cell_type": "markdown",
   "metadata": {},
   "source": [
    "#### Для продаж через приложение"
   ]
  },
  {
   "cell_type": "code",
   "execution_count": 25,
   "metadata": {},
   "outputs": [
    {
     "data": {
      "image/png": "[encoded data removed]",
      "text/plain": [
       "<Figure size 432x288 with 1 Axes>"
      ]
     },
     "metadata": {
      "needs_background": "light"
     },
     "output_type": "display_data"
    }
   ],
   "source": [
    "auv[auv['channel_name'] == 'Приложение']['auv'].hist();"
   ]
  },
  {
   "cell_type": "code",
   "execution_count": 26,
   "metadata": {
    "scrolled": true
   },
   "outputs": [
    {
     "data": {
      "image/png": "[encoded data removed]",
      "text/plain": [
       "<Figure size 432x288 with 1 Axes>"
      ]
     },
     "metadata": {
      "needs_background": "light"
     },
     "output_type": "display_data"
    }
   ],
   "source": [
    "y_a = auv[auv['channel_name'] == 'Приложение']['auv']\n",
    "x_values = pd.Series(range(0, len(y_a)))\n",
    "plt.scatter(x_values, y_a);"
   ]
  },
  {
   "cell_type": "markdown",
   "metadata": {},
   "source": [
    "На графиках видно, что в данных есть аномальные значения.  \n",
    "Посчитаем процентиль, чтобы определить верхнюю границу значений"
   ]
  },
  {
   "cell_type": "code",
   "execution_count": 27,
   "metadata": {},
   "outputs": [
    {
     "data": {
      "text/plain": [
       "array([ 6.728 ,  9.1188, 19.198 ])"
      ]
     },
     "execution_count": 27,
     "metadata": {},
     "output_type": "execute_result"
    }
   ],
   "source": [
    "np.percentile(y_a, [95, 97, 99])"
   ]
  },
  {
   "cell_type": "markdown",
   "metadata": {},
   "source": [
    "97% записей продаж через приложение содержат не более 9 чизбургеров в день на ресторан. Будем считать это верхней границей. Удалим те строки, которые выше нее.  "
   ]
  },
  {
   "cell_type": "code",
   "execution_count": 28,
   "metadata": {},
   "outputs": [],
   "source": [
    "auv = auv[((auv['channel_name'] == 'Касса') & (auv['auv'] <= 28)) \n",
    "    | ((auv['channel_name'] == 'Приложение') & (auv['auv'] <= 9))]"
   ]
  },
  {
   "cell_type": "code",
   "execution_count": 29,
   "metadata": {},
   "outputs": [
    {
     "name": "stdout",
     "output_type": "stream",
     "text": [
      "27\n",
      "27\n",
      "19\n",
      "19\n"
     ]
    }
   ],
   "source": [
    "print(auv[auv['period']=='Post']['rest_id'].nunique())\n",
    "print(ars[ars['period']=='Post']['rest_id'].nunique())\n",
    "print(auv[auv['period']=='Pre']['rest_id'].nunique())\n",
    "print(ars[ars['period']=='Pre']['rest_id'].nunique())"
   ]
  },
  {
   "cell_type": "markdown",
   "metadata": {},
   "source": [
    "Аномалии удалили, все рестораны остались на месте. "
   ]
  },
  {
   "cell_type": "markdown",
   "metadata": {},
   "source": [
    "### Анализ показателей до и после запуска теста<a id=\"step4\">"
   ]
  },
  {
   "cell_type": "markdown",
   "metadata": {},
   "source": [
    "#### ARS - average retail sales (средняя выручка в день на ресторан, руб)<a id=\"step5\">"
   ]
  },
  {
   "cell_type": "code",
   "execution_count": 30,
   "metadata": {},
   "outputs": [
    {
     "data": {
      "image/png": "[encoded data removed]",
      "text/plain": [
       "<Figure size 720x504 with 1 Axes>"
      ]
     },
     "metadata": {
      "needs_background": "light"
     },
     "output_type": "display_data"
    }
   ],
   "source": [
    "plt.figure(figsize=(10, 7))\n",
    "plt.title('Распределение средней выручки в день на ресторан до и после запуска теста')\n",
    "sns.boxplot(x='channel_name', y='ars', hue='period', data=ars);"
   ]
  },
  {
   "cell_type": "markdown",
   "metadata": {},
   "source": [
    "Визуально на графиках видно, что средняя выручки увеличился после запуска теста.  \n",
    "Нужно проверить гипотезу о равенстве значений."
   ]
  },
  {
   "cell_type": "markdown",
   "metadata": {},
   "source": [
    "#### ART - average retail traffic (среднее кол-во чеков в день на ресторан)<a id=\"step6\">"
   ]
  },
  {
   "cell_type": "code",
   "execution_count": 31,
   "metadata": {},
   "outputs": [
    {
     "data": {
      "image/png": "[encoded data removed]",
      "text/plain": [
       "<Figure size 720x504 with 1 Axes>"
      ]
     },
     "metadata": {
      "needs_background": "light"
     },
     "output_type": "display_data"
    }
   ],
   "source": [
    "plt.figure(figsize=(10, 7))\n",
    "plt.title('Распределение среднего количества чеков в день на ресторан до и после запуска теста')\n",
    "sns.boxplot(x='channel_name', y='art', hue='period', data=ars);"
   ]
  },
  {
   "cell_type": "markdown",
   "metadata": {},
   "source": [
    "Визуально на графиках видно, что среднее количество чеков в день на ресторан увеличилось после запуска теста.  \n",
    "Нужно проверить гипотезу о раенстве значений."
   ]
  },
  {
   "cell_type": "markdown",
   "metadata": {},
   "source": [
    "На графике виден выброс, найдем его."
   ]
  },
  {
   "cell_type": "code",
   "execution_count": 32,
   "metadata": {},
   "outputs": [
    {
     "data": {
      "image/png": "[encoded data removed]",
      "text/plain": [
       "<Figure size 432x288 with 1 Axes>"
      ]
     },
     "metadata": {
      "needs_background": "light"
     },
     "output_type": "display_data"
    }
   ],
   "source": [
    "ars[(ars['channel_name'] == 'Приложение') & (ars['period'] == 'Pre')].boxplot(column=['art']);"
   ]
  },
  {
   "cell_type": "code",
   "execution_count": 33,
   "metadata": {},
   "outputs": [
    {
     "data": {
      "text/html": [
       "<div>\n",
       "<style scoped>\n",
       "    .dataframe tbody tr th:only-of-type {\n",
       "        vertical-align: middle;\n",
       "    }\n",
       "\n",
       "    .dataframe tbody tr th {\n",
       "        vertical-align: top;\n",
       "    }\n",
       "\n",
       "    .dataframe thead th {\n",
       "        text-align: right;\n",
       "    }\n",
       "</style>\n",
       "<table border=\"1\" class=\"dataframe\">\n",
       "  <thead>\n",
       "    <tr style=\"text-align: right;\">\n",
       "      <th></th>\n",
       "      <th>day_id</th>\n",
       "      <th>channel_name</th>\n",
       "      <th>ars</th>\n",
       "      <th>art</th>\n",
       "      <th>art_qnty</th>\n",
       "      <th>gp</th>\n",
       "      <th>food_cost</th>\n",
       "      <th>sales</th>\n",
       "      <th>checks</th>\n",
       "      <th>rest_id</th>\n",
       "      <th>period</th>\n",
       "      <th>group</th>\n",
       "      <th>menu</th>\n",
       "      <th>index</th>\n",
       "    </tr>\n",
       "  </thead>\n",
       "  <tbody>\n",
       "    <tr>\n",
       "      <th>1</th>\n",
       "      <td>2021-01-01</td>\n",
       "      <td>Приложение</td>\n",
       "      <td>9428.85</td>\n",
       "      <td>27.16</td>\n",
       "      <td>78976.96</td>\n",
       "      <td>2572642.13</td>\n",
       "      <td>1963059.69</td>\n",
       "      <td>5176440.43</td>\n",
       "      <td>14908.48</td>\n",
       "      <td>454</td>\n",
       "      <td>Pre</td>\n",
       "      <td>ТГ</td>\n",
       "      <td>all</td>\n",
       "      <td>1</td>\n",
       "    </tr>\n",
       "  </tbody>\n",
       "</table>\n",
       "</div>"
      ],
      "text/plain": [
       "      day_id channel_name      ars    art  art_qnty          gp   food_cost  \\\n",
       "1 2021-01-01   Приложение  9428.85  27.16  78976.96  2572642.13  1963059.69   \n",
       "\n",
       "        sales    checks  rest_id period group menu  index  \n",
       "1  5176440.43  14908.48      454    Pre    ТГ  all      1  "
      ]
     },
     "execution_count": 33,
     "metadata": {},
     "output_type": "execute_result"
    }
   ],
   "source": [
    "ars[ars['art'] < 30]"
   ]
  },
  {
   "cell_type": "markdown",
   "metadata": {},
   "source": [
    "Удалим запись `day_id = 2021-01-01, channel_name Приложение, rest_id = 454, art < 30 ` из таблиц как аномальную."
   ]
  },
  {
   "cell_type": "code",
   "execution_count": 34,
   "metadata": {},
   "outputs": [],
   "source": [
    "ars = ars[ars['art'] > 30]"
   ]
  },
  {
   "cell_type": "code",
   "execution_count": 35,
   "metadata": {},
   "outputs": [],
   "source": [
    "auv['index'] = auv.index"
   ]
  },
  {
   "cell_type": "code",
   "execution_count": 36,
   "metadata": {},
   "outputs": [],
   "source": [
    "drop_index = auv[(auv['channel_name'] == 'Приложение') & (auv['day_id'] == '2021-01-01') \n",
    "    & (auv['rest_id'] == 454)].index.tolist()"
   ]
  },
  {
   "cell_type": "code",
   "execution_count": 37,
   "metadata": {},
   "outputs": [],
   "source": [
    "#удалим все записи с индексами, которые соответствуют индексам из списка drop_index\n",
    "#получим, что Post = 60 ресторанов, а Pre = 61 ресторан (вместо 62, тк 1 исключили)\n",
    "auv = auv.query('index != @drop_index')"
   ]
  },
  {
   "cell_type": "markdown",
   "metadata": {},
   "source": [
    "#### ARC - average retail check (средний чек в день на ресторан, руб)<a id=\"step7\">"
   ]
  },
  {
   "cell_type": "markdown",
   "metadata": {},
   "source": [
    "Посчитаем средний чек"
   ]
  },
  {
   "cell_type": "code",
   "execution_count": 38,
   "metadata": {},
   "outputs": [],
   "source": [
    "ars['avg_check'] = (ars['ars'] / ars['art']).round(2)"
   ]
  },
  {
   "cell_type": "code",
   "execution_count": 39,
   "metadata": {},
   "outputs": [
    {
     "data": {
      "image/png": "[encoded data removed]",
      "text/plain": [
       "<Figure size 720x504 with 1 Axes>"
      ]
     },
     "metadata": {
      "needs_background": "light"
     },
     "output_type": "display_data"
    }
   ],
   "source": [
    "plt.figure(figsize=(10, 7))\n",
    "plt.title('Распределение значений средних чеков в день на ресторан до и после запуска теста')\n",
    "sns.boxplot(x='channel_name', y='avg_check', hue='period', data=ars);"
   ]
  },
  {
   "cell_type": "markdown",
   "metadata": {},
   "source": [
    "Со средним чеком обратная ситуация. средний чек упал после запуска теста."
   ]
  },
  {
   "cell_type": "markdown",
   "metadata": {},
   "source": [
    "### GP - gross profit (маржа в день на ресторан, руб)<a id=\"step8\">"
   ]
  },
  {
   "cell_type": "code",
   "execution_count": 40,
   "metadata": {},
   "outputs": [
    {
     "data": {
      "image/png": "[encoded data removed]",
      "text/plain": [
       "<Figure size 720x504 with 1 Axes>"
      ]
     },
     "metadata": {
      "needs_background": "light"
     },
     "output_type": "display_data"
    }
   ],
   "source": [
    "plt.figure(figsize=(10, 7))\n",
    "plt.title('Распределение маржи в день на ресторан до и после запуска теста')\n",
    "sns.boxplot(x='channel_name', y='gp', hue='period', data=ars);"
   ]
  },
  {
   "cell_type": "markdown",
   "metadata": {},
   "source": [
    "Маржа в день на ресторан увеличилась после запуска теста."
   ]
  },
  {
   "cell_type": "markdown",
   "metadata": {},
   "source": [
    "### Изменение средней доли продаж чизбургера<a id=\"step9\">"
   ]
  },
  {
   "cell_type": "markdown",
   "metadata": {},
   "source": [
    "#### Выделим названия чизбургеров из списка транзакций "
   ]
  },
  {
   "cell_type": "code",
   "execution_count": 41,
   "metadata": {},
   "outputs": [
    {
     "data": {
      "text/plain": [
       "['Двойной Чизбургер', 'Лонг Чизбургер', 'Чизбургер']"
      ]
     },
     "execution_count": 41,
     "metadata": {},
     "output_type": "execute_result"
    }
   ],
   "source": [
    "cheeseburger = auv.query('dish_name.str.contains(\"Чизбургер\")', engine='python').reset_index()\n",
    "#сохраним названия, в которых присутствует слово чизбергер в список\n",
    "cheeseburger_list = cheeseburger['dish_name'].unique().tolist()\n",
    "cheeseburger_list"
   ]
  },
  {
   "cell_type": "code",
   "execution_count": 42,
   "metadata": {},
   "outputs": [],
   "source": [
    "#напишем функцию для нового столбца, если в столбце dish_name названия совпадают со списком cheesburger_list,\n",
    "# то в столбец запишем 1, иначе 0\n",
    "def cheese(values):\n",
    "    if values in cheeseburger_list:\n",
    "        return 1\n",
    "    else:\n",
    "        return 0"
   ]
  },
  {
   "cell_type": "code",
   "execution_count": 43,
   "metadata": {},
   "outputs": [],
   "source": [
    "auv['cheese'] = auv['dish_name'].apply(cheese)"
   ]
  },
  {
   "cell_type": "markdown",
   "metadata": {},
   "source": [
    "Посчитаем суммарные продажи единиц продукции 'Двойной Чизбургер', 'Лонг Чизбургер', 'Чизбургер' по дням"
   ]
  },
  {
   "cell_type": "code",
   "execution_count": 44,
   "metadata": {},
   "outputs": [],
   "source": [
    "auv_sum_cheese = auv[auv['cheese'] == 1].groupby(['day_id', 'channel_name',\n",
    "                                                 'period']).agg({'auv':'sum'}).reset_index()"
   ]
  },
  {
   "cell_type": "markdown",
   "metadata": {},
   "source": [
    "Посчитаем суммарные продажи единиц продукции в день на ресторан "
   ]
  },
  {
   "cell_type": "code",
   "execution_count": 45,
   "metadata": {},
   "outputs": [],
   "source": [
    "auv_sum_all_menu = auv.groupby(['day_id', 'channel_name', 'period']).agg({'auv':'sum'}).reset_index()"
   ]
  },
  {
   "cell_type": "markdown",
   "metadata": {},
   "source": [
    "#### Посчитаем долю чизбургеров в ежедневных продажах"
   ]
  },
  {
   "cell_type": "code",
   "execution_count": 46,
   "metadata": {},
   "outputs": [],
   "source": [
    "auv_share_cheese = auv_sum_all_menu.merge(auv_sum_cheese, how='left', on=['day_id', 'channel_name', 'period'])"
   ]
  },
  {
   "cell_type": "code",
   "execution_count": 47,
   "metadata": {},
   "outputs": [],
   "source": [
    "auv_share_cheese = auv_share_cheese.rename(columns={'auv_x':'auv_all', 'auv_y':'auv_cheese'})"
   ]
  },
  {
   "cell_type": "code",
   "execution_count": 48,
   "metadata": {},
   "outputs": [],
   "source": [
    "auv_share_cheese['cheese_share'] = auv_share_cheese['auv_cheese'] / auv_share_cheese['auv_all'] * 100"
   ]
  },
  {
   "cell_type": "code",
   "execution_count": 49,
   "metadata": {},
   "outputs": [
    {
     "data": {
      "text/html": [
       "<div>\n",
       "<style scoped>\n",
       "    .dataframe tbody tr th:only-of-type {\n",
       "        vertical-align: middle;\n",
       "    }\n",
       "\n",
       "    .dataframe tbody tr th {\n",
       "        vertical-align: top;\n",
       "    }\n",
       "\n",
       "    .dataframe thead th {\n",
       "        text-align: right;\n",
       "    }\n",
       "</style>\n",
       "<table border=\"1\" class=\"dataframe\">\n",
       "  <thead>\n",
       "    <tr style=\"text-align: right;\">\n",
       "      <th></th>\n",
       "      <th>day_id</th>\n",
       "      <th>channel_name</th>\n",
       "      <th>period</th>\n",
       "      <th>auv_all</th>\n",
       "      <th>auv_cheese</th>\n",
       "      <th>cheese_share</th>\n",
       "    </tr>\n",
       "  </thead>\n",
       "  <tbody>\n",
       "    <tr>\n",
       "      <th>0</th>\n",
       "      <td>2021-01-01</td>\n",
       "      <td>Касса</td>\n",
       "      <td>Pre</td>\n",
       "      <td>957.37</td>\n",
       "      <td>48.38</td>\n",
       "      <td>5.053428</td>\n",
       "    </tr>\n",
       "    <tr>\n",
       "      <th>1</th>\n",
       "      <td>2021-01-02</td>\n",
       "      <td>Касса</td>\n",
       "      <td>Pre</td>\n",
       "      <td>1086.57</td>\n",
       "      <td>34.25</td>\n",
       "      <td>3.152121</td>\n",
       "    </tr>\n",
       "  </tbody>\n",
       "</table>\n",
       "</div>"
      ],
      "text/plain": [
       "      day_id channel_name period  auv_all  auv_cheese  cheese_share\n",
       "0 2021-01-01        Касса    Pre   957.37       48.38      5.053428\n",
       "1 2021-01-02        Касса    Pre  1086.57       34.25      3.152121"
      ]
     },
     "execution_count": 49,
     "metadata": {},
     "output_type": "execute_result"
    }
   ],
   "source": [
    "auv_share_cheese.head(2)"
   ]
  },
  {
   "cell_type": "markdown",
   "metadata": {},
   "source": [
    "Визуализируем распределение долей чизбургеров в общем количестве проданных единиц продукции"
   ]
  },
  {
   "cell_type": "code",
   "execution_count": 50,
   "metadata": {},
   "outputs": [
    {
     "data": {
      "image/png": "[encoded data removed]",
      "text/plain": [
       "<Figure size 720x504 with 1 Axes>"
      ]
     },
     "metadata": {
      "needs_background": "light"
     },
     "output_type": "display_data"
    }
   ],
   "source": [
    "plt.figure(figsize=(10, 7))\n",
    "plt.title('Распределение средней доли продаж чизбургера до и после запуска теста')\n",
    "sns.boxplot(x='channel_name', y='cheese_share', hue='period', data=auv_share_cheese);"
   ]
  },
  {
   "cell_type": "markdown",
   "metadata": {},
   "source": [
    "Доля продаж чизбургеров в общем объеме продаж в натуральном выражении снизилась после запуска теста."
   ]
  },
  {
   "cell_type": "markdown",
   "metadata": {},
   "source": [
    "#### Посмотрим как изменилось количество чизбургеров в составе комбо<a id=\"step10\">"
   ]
  },
  {
   "cell_type": "markdown",
   "metadata": {},
   "source": [
    "Посчитаем \"конверсию в комбо-чизбургеры\" (долю чизбургров в составе комбо) по кассе до теста и после запуска"
   ]
  },
  {
   "cell_type": "markdown",
   "metadata": {},
   "source": [
    "Для кассы:"
   ]
  },
  {
   "cell_type": "code",
   "execution_count": 51,
   "metadata": {},
   "outputs": [],
   "source": [
    "#посчитаем количество чизбургеров всего и в комбо через кассу до и после запуска теста\n",
    "cheese_pre_cash = pd.Series(cheeseburger[(cheeseburger['period'] == 'Pre') \n",
    "                            & (cheeseburger['channel_name'] == 'Касса')]['index'].nunique())\n",
    "combo_cheese_pre_cash = pd.Series(cheeseburger[(cheeseburger['period'] == 'Pre') & (cheeseburger['action_id'] == 1) \n",
    "                            & (cheeseburger['channel_name'] == 'Касса')]['index'].nunique())\n",
    "cheese_post_cash = pd.Series(cheeseburger[(cheeseburger['period'] == 'Post') \n",
    "                            & (cheeseburger['channel_name'] == 'Касса')]['index'].nunique())\n",
    "combo_cheese_post_cash = pd.Series(cheeseburger[(cheeseburger['period'] == 'Post') & (cheeseburger['action_id'] == 1) \n",
    "                            & (cheeseburger['channel_name'] == 'Касса')]['index'].nunique())"
   ]
  },
  {
   "cell_type": "code",
   "execution_count": 52,
   "metadata": {},
   "outputs": [
    {
     "data": {
      "text/html": [
       "<div>\n",
       "<style scoped>\n",
       "    .dataframe tbody tr th:only-of-type {\n",
       "        vertical-align: middle;\n",
       "    }\n",
       "\n",
       "    .dataframe tbody tr th {\n",
       "        vertical-align: top;\n",
       "    }\n",
       "\n",
       "    .dataframe thead th {\n",
       "        text-align: right;\n",
       "    }\n",
       "</style>\n",
       "<table border=\"1\" class=\"dataframe\">\n",
       "  <thead>\n",
       "    <tr style=\"text-align: right;\">\n",
       "      <th></th>\n",
       "      <th>trials</th>\n",
       "      <th>successes</th>\n",
       "      <th>conversion</th>\n",
       "    </tr>\n",
       "  </thead>\n",
       "  <tbody>\n",
       "    <tr>\n",
       "      <th>0</th>\n",
       "      <td>163</td>\n",
       "      <td>93</td>\n",
       "      <td>0.570552</td>\n",
       "    </tr>\n",
       "    <tr>\n",
       "      <th>1</th>\n",
       "      <td>152</td>\n",
       "      <td>90</td>\n",
       "      <td>0.592105</td>\n",
       "    </tr>\n",
       "  </tbody>\n",
       "</table>\n",
       "</div>"
      ],
      "text/plain": [
       "   trials  successes  conversion\n",
       "0     163         93    0.570552\n",
       "1     152         90    0.592105"
      ]
     },
     "execution_count": 52,
     "metadata": {},
     "output_type": "execute_result"
    }
   ],
   "source": [
    "#сохраним количество чизбургеров всего и в комбо через кассу до и после запуска теста в df\n",
    "trials = np.array([cheese_pre_cash, cheese_post_cash])\n",
    "successes = np.array([combo_cheese_pre_cash, combo_cheese_post_cash])\n",
    "trials_successes_cash = np.concatenate([trials, successes], axis=1)\n",
    "trials_successes_cash\n",
    "columns = ['trials', 'successes']\n",
    "trials_successes_cash = pd.DataFrame(data=trials_successes_cash, columns=columns)\n",
    "trials_successes_cash['conversion'] = trials_successes_cash['successes'] / trials_successes_cash['trials']\n",
    "trials_successes_cash"
   ]
  },
  {
   "cell_type": "markdown",
   "metadata": {},
   "source": [
    "После запуска теста доля покупок чизбургеров в комбо по кассе, относительно общего количества покупок чизбургеров, выросла."
   ]
  },
  {
   "cell_type": "markdown",
   "metadata": {},
   "source": [
    "Для приложения:"
   ]
  },
  {
   "cell_type": "code",
   "execution_count": 53,
   "metadata": {},
   "outputs": [],
   "source": [
    "#посчитаем количество чизбургеров всего и в комбо через приложение до и после запуска теста\n",
    "cheese_pre_app = pd.Series(cheeseburger[(cheeseburger['period'] == 'Pre') \n",
    "                            & (cheeseburger['channel_name'] == 'Приложение')]['index'].nunique())\n",
    "combo_cheese_pre_app = pd.Series(cheeseburger[(cheeseburger['period'] == 'Pre') & (cheeseburger['action_id'] == 1) \n",
    "                            & (cheeseburger['channel_name'] == 'Приложение')]['index'].nunique())\n",
    "cheese_post_app = pd.Series(cheeseburger[(cheeseburger['period'] == 'Post') \n",
    "                            & (cheeseburger['channel_name'] == 'Приложение')]['index'].nunique())\n",
    "combo_cheese_post_app = pd.Series(cheeseburger[(cheeseburger['period'] == 'Post') & (cheeseburger['action_id']==1) \n",
    "                            & (cheeseburger['channel_name'] == 'Приложение')]['index'].nunique())"
   ]
  },
  {
   "cell_type": "code",
   "execution_count": 54,
   "metadata": {},
   "outputs": [
    {
     "data": {
      "text/html": [
       "<div>\n",
       "<style scoped>\n",
       "    .dataframe tbody tr th:only-of-type {\n",
       "        vertical-align: middle;\n",
       "    }\n",
       "\n",
       "    .dataframe tbody tr th {\n",
       "        vertical-align: top;\n",
       "    }\n",
       "\n",
       "    .dataframe thead th {\n",
       "        text-align: right;\n",
       "    }\n",
       "</style>\n",
       "<table border=\"1\" class=\"dataframe\">\n",
       "  <thead>\n",
       "    <tr style=\"text-align: right;\">\n",
       "      <th></th>\n",
       "      <th>trials</th>\n",
       "      <th>successes</th>\n",
       "      <th>conversion</th>\n",
       "    </tr>\n",
       "  </thead>\n",
       "  <tbody>\n",
       "    <tr>\n",
       "      <th>0</th>\n",
       "      <td>129</td>\n",
       "      <td>60</td>\n",
       "      <td>0.465116</td>\n",
       "    </tr>\n",
       "    <tr>\n",
       "      <th>1</th>\n",
       "      <td>135</td>\n",
       "      <td>74</td>\n",
       "      <td>0.548148</td>\n",
       "    </tr>\n",
       "  </tbody>\n",
       "</table>\n",
       "</div>"
      ],
      "text/plain": [
       "   trials  successes  conversion\n",
       "0     129         60    0.465116\n",
       "1     135         74    0.548148"
      ]
     },
     "execution_count": 54,
     "metadata": {},
     "output_type": "execute_result"
    }
   ],
   "source": [
    "#сохраним количество чизбургеров всего и в комбо через приложение до и после запуска теста в df\n",
    "trials = np.array([cheese_pre_app, cheese_post_app])\n",
    "successes = np.array([combo_cheese_pre_app, combo_cheese_post_app])\n",
    "trials_successes_app = np.concatenate([trials, successes], axis=1)\n",
    "trials_successes_app\n",
    "columns = ['trials', 'successes']\n",
    "trials_successes_app = pd.DataFrame(data=trials_successes_app, columns=columns)\n",
    "trials_successes_app['conversion'] = trials_successes_app['successes'] / trials_successes_app['trials']\n",
    "trials_successes_app"
   ]
  },
  {
   "cell_type": "markdown",
   "metadata": {},
   "source": [
    "После запуска теста доля покупок чизбургеров в комбо в приложении, относительно общего количества покупок чизбургеров, выросла."
   ]
  },
  {
   "cell_type": "markdown",
   "metadata": {},
   "source": [
    "## Проверка гипотез<a id=\"step11\">"
   ]
  },
  {
   "cell_type": "markdown",
   "metadata": {},
   "source": [
    "### Z-критерий<a id=\"step12\">\n",
    "#### Гипотезы:  \n",
    "#### H0: Нет оснований считать доли разными \n",
    "#### H1: Между долями до и после запуска теста есть значимая разница   "
   ]
  },
  {
   "cell_type": "markdown",
   "metadata": {},
   "source": [
    "Проверим статистическую разницу долей покупок чизбургеров в комбо **на кассе** z-критерием"
   ]
  },
  {
   "cell_type": "code",
   "execution_count": 55,
   "metadata": {},
   "outputs": [
    {
     "name": "stdout",
     "output_type": "stream",
     "text": [
      "p-значение:  0.6984542861138627\n",
      "Не получилось отвергнуть нулевую гипотезу, нет оснований считать доли разными\n"
     ]
    }
   ],
   "source": [
    "alpha = 0.05\n",
    "def pvalue(row):\n",
    "    for i in range(len(row)):\n",
    "        trials = row['trials']\n",
    "        successes = row['successes']\n",
    "        p1 = successes[0] / trials[0]\n",
    "        p2 = successes[1] / trials[1]\n",
    "        p_combined = (successes[0] + successes[1]) / (trials[0] + trials[1])\n",
    "        difference = p1 - p2\n",
    "        z_value = difference / math.sqrt(p_combined * (1 - p_combined) * (1/trials[0] + 1/trials[1]))\n",
    "        distr = st.norm(0, 1)\n",
    "        p_value = (1 - distr.cdf(abs(z_value))) * 2\n",
    "    return p_value\n",
    "\n",
    "p_value = pvalue(trials_successes_cash)\n",
    "print('p-значение: ', p_value)\n",
    "\n",
    "if p_value < alpha:\n",
    "    print('Отвергаем нулевую гипотезу: между долями есть значимая разница')\n",
    "else:\n",
    "    print(\n",
    "        'Не получилось отвергнуть нулевую гипотезу, нет оснований считать доли разными')"
   ]
  },
  {
   "cell_type": "markdown",
   "metadata": {},
   "source": [
    "Проверим статистическую разницу долей покупок чизбургеров в комбо **в приложении** z-критерием"
   ]
  },
  {
   "cell_type": "code",
   "execution_count": 56,
   "metadata": {},
   "outputs": [
    {
     "name": "stdout",
     "output_type": "stream",
     "text": [
      "p-значение:  0.17736441173356954\n",
      "Не получилось отвергнуть нулевую гипотезу, нет оснований считать доли разными\n"
     ]
    }
   ],
   "source": [
    "alpha = 0.05\n",
    "def pvalue(row):\n",
    "    for i in range(len(row)):\n",
    "        trials = row['trials']\n",
    "        successes = row['successes']\n",
    "        p1 = successes[0] / trials[0]\n",
    "        p2 = successes[1] / trials[1]\n",
    "        p_combined = (successes[0] + successes[1]) / (trials[0] + trials[1])\n",
    "        difference = p1 - p2\n",
    "        z_value = difference / math.sqrt(p_combined * (1 - p_combined) * (1/trials[0] + 1/trials[1]))\n",
    "        distr = st.norm(0, 1)\n",
    "        p_value = (1 - distr.cdf(abs(z_value))) * 2\n",
    "    return p_value\n",
    "\n",
    "p_value = pvalue(trials_successes_app)\n",
    "print('p-значение: ', p_value)\n",
    "\n",
    "if p_value < alpha:\n",
    "    print('Отвергаем нулевую гипотезу: между долями есть значимая разница')\n",
    "else:\n",
    "    print('Не получилось отвергнуть нулевую гипотезу, нет оснований считать доли разными')"
   ]
  },
  {
   "cell_type": "markdown",
   "metadata": {},
   "source": [
    "### Непараметрический тест Уилкоксона-Манна-Уитни.<a id=\"step13\">\n",
    "#### Гипотезы:  \n",
    "#### HO: Между средними значениями до и после запуска теста нет различия  \n",
    "#### H1: Между средними значениями до и после запуска теста есть различия"
   ]
  },
  {
   "cell_type": "markdown",
   "metadata": {},
   "source": [
    "### ARS - average retail sales (средняя выручка в день на ресторан, руб)<a id=\"step14\">"
   ]
  },
  {
   "cell_type": "markdown",
   "metadata": {},
   "source": [
    "#### Для Кассы"
   ]
  },
  {
   "cell_type": "code",
   "execution_count": 57,
   "metadata": {},
   "outputs": [],
   "source": [
    "ars_pre_cash = ars[(ars['period'] == 'Pre') & (ars['channel_name'] == 'Касса')]['ars'].tolist()\n",
    "ars_post_cash = ars[(ars['period'] == 'Post') & (ars['channel_name'] == 'Касса')]['ars'].tolist()"
   ]
  },
  {
   "cell_type": "code",
   "execution_count": 58,
   "metadata": {},
   "outputs": [
    {
     "name": "stdout",
     "output_type": "stream",
     "text": [
      "pvalue:  0.07355190243582417\n",
      "Не получилось отвергнуть нулевую гипотезу, вывод о различии сделать нельзя\n"
     ]
    }
   ],
   "source": [
    "alpha = 0.05\n",
    "results = st.mannwhitneyu(ars_pre_cash, ars_post_cash)\n",
    "print('pvalue: ', results.pvalue)\n",
    "if results.pvalue < alpha:\n",
    "    print('Отвергаем нулевую гипотезу: разница статистически значима')\n",
    "else:\n",
    "    print('Не получилось отвергнуть нулевую гипотезу, вывод о различии сделать нельзя')"
   ]
  },
  {
   "cell_type": "markdown",
   "metadata": {},
   "source": [
    "Значит нельзя сделать вывод, что между средней выручкой до и после запуска теста есть различие."
   ]
  },
  {
   "cell_type": "markdown",
   "metadata": {},
   "source": [
    "#### Для приложения"
   ]
  },
  {
   "cell_type": "code",
   "execution_count": 59,
   "metadata": {},
   "outputs": [],
   "source": [
    "ars_pre_app = ars[(ars['period'] == 'Pre') & (ars['channel_name'] == 'Приложение')]['ars'].tolist()\n",
    "ars_post_app = ars[(ars['period'] == 'Post') & (ars['channel_name'] == 'Приложение')]['ars'].tolist()"
   ]
  },
  {
   "cell_type": "code",
   "execution_count": 60,
   "metadata": {},
   "outputs": [
    {
     "name": "stdout",
     "output_type": "stream",
     "text": [
      "pvalue:  0.005157336201168999\n",
      "Отвергаем нулевую гипотезу: разница статистически значима\n"
     ]
    }
   ],
   "source": [
    "alpha = 0.05\n",
    "results = st.mannwhitneyu(ars_pre_app, ars_post_app)\n",
    "print('pvalue: ', results.pvalue)\n",
    "if results.pvalue < alpha:\n",
    "    print('Отвергаем нулевую гипотезу: разница статистически значима')\n",
    "else:\n",
    "    print('Не получилось отвергнуть нулевую гипотезу, вывод о различии сделать нельзя')"
   ]
  },
  {
   "cell_type": "markdown",
   "metadata": {},
   "source": [
    "### ART - average retail traffic (среднее кол-во чеков в день на ресторан)<a id=\"step15\">"
   ]
  },
  {
   "cell_type": "markdown",
   "metadata": {},
   "source": [
    "#### Для Кассы"
   ]
  },
  {
   "cell_type": "code",
   "execution_count": 61,
   "metadata": {},
   "outputs": [],
   "source": [
    "art_pre_cash = ars[(ars['period'] == 'Pre') & (ars['channel_name'] == 'Касса')]['art'].tolist()\n",
    "art_post_cash = ars[(ars['period'] == 'Post') & (ars['channel_name'] == 'Касса')]['art'].tolist()"
   ]
  },
  {
   "cell_type": "code",
   "execution_count": 62,
   "metadata": {},
   "outputs": [
    {
     "name": "stdout",
     "output_type": "stream",
     "text": [
      "pvalue:  0.017907628371345328\n",
      "Отвергаем нулевую гипотезу: разница статистически значима\n"
     ]
    }
   ],
   "source": [
    "alpha = 0.05\n",
    "results = st.mannwhitneyu(art_pre_cash, art_post_cash)\n",
    "print('pvalue: ', results.pvalue)\n",
    "if results.pvalue < alpha:\n",
    "    print('Отвергаем нулевую гипотезу: разница статистически значима')\n",
    "else:\n",
    "    print('Не получилось отвергнуть нулевую гипотезу, вывод о различии сделать нельзя')"
   ]
  },
  {
   "cell_type": "markdown",
   "metadata": {},
   "source": [
    "#### Для Приложения"
   ]
  },
  {
   "cell_type": "code",
   "execution_count": 63,
   "metadata": {},
   "outputs": [],
   "source": [
    "art_pre_app = ars[(ars['period'] == 'Pre') & (ars['channel_name'] == 'Приложение')]['art'].tolist()\n",
    "art_post_app = ars[(ars['period'] == 'Post') & (ars['channel_name'] == 'Приложение')]['art'].tolist()"
   ]
  },
  {
   "cell_type": "code",
   "execution_count": 64,
   "metadata": {},
   "outputs": [
    {
     "name": "stdout",
     "output_type": "stream",
     "text": [
      "pvalue:  8.028393388331248e-07\n",
      "Отвергаем нулевую гипотезу: разница статистически значима\n"
     ]
    }
   ],
   "source": [
    "alpha = 0.05\n",
    "results = st.mannwhitneyu(art_pre_app, art_post_app)\n",
    "print('pvalue: ', results.pvalue)\n",
    "if results.pvalue < alpha:\n",
    "    print('Отвергаем нулевую гипотезу: разница статистически значима')\n",
    "else:\n",
    "    print('Не получилось отвергнуть нулевую гипотезу, вывод о различии сделать нельзя')"
   ]
  },
  {
   "cell_type": "markdown",
   "metadata": {},
   "source": [
    "### ARC - average retail check (средний чек в день на ресторан, руб)<a id=\"step16\">"
   ]
  },
  {
   "cell_type": "markdown",
   "metadata": {},
   "source": [
    "#### Для Кассы"
   ]
  },
  {
   "cell_type": "code",
   "execution_count": 65,
   "metadata": {},
   "outputs": [],
   "source": [
    "avg_check_pre_cash = ars[(ars['period'] == 'Pre') & (ars['channel_name'] == 'Касса')]['avg_check'].tolist()\n",
    "avg_check_post_cash = ars[(ars['period'] == 'Post') & (ars['channel_name'] == 'Касса')]['avg_check'].tolist()"
   ]
  },
  {
   "cell_type": "code",
   "execution_count": 66,
   "metadata": {},
   "outputs": [
    {
     "name": "stdout",
     "output_type": "stream",
     "text": [
      "pvalue:  0.029875604680339864\n",
      "Отвергаем нулевую гипотезу: разница статистически значима\n"
     ]
    }
   ],
   "source": [
    "alpha = 0.05\n",
    "results = st.mannwhitneyu(avg_check_pre_cash, avg_check_post_cash)\n",
    "print('pvalue: ', results.pvalue)\n",
    "if results.pvalue < alpha:\n",
    "    print('Отвергаем нулевую гипотезу: разница статистически значима')\n",
    "else:\n",
    "    print('Не получилось отвергнуть нулевую гипотезу, вывод о различии сделать нельзя')"
   ]
  },
  {
   "cell_type": "markdown",
   "metadata": {},
   "source": [
    "#### Для приложения"
   ]
  },
  {
   "cell_type": "code",
   "execution_count": 67,
   "metadata": {},
   "outputs": [],
   "source": [
    "avg_check_pre_app = ars[(ars['period'] == 'Pre') & (ars['channel_name'] == 'Приложение')]['avg_check'].tolist()\n",
    "avg_check_post_app = ars[(ars['period'] == 'Post') & (ars['channel_name'] == 'Приложение')]['avg_check'].tolist()"
   ]
  },
  {
   "cell_type": "code",
   "execution_count": 68,
   "metadata": {},
   "outputs": [
    {
     "name": "stdout",
     "output_type": "stream",
     "text": [
      "pvalue:  0.012550641364667554\n",
      "Отвергаем нулевую гипотезу: разница статистически значима\n"
     ]
    }
   ],
   "source": [
    "alpha = 0.05\n",
    "results = st.mannwhitneyu(avg_check_pre_app, avg_check_post_app)\n",
    "print('pvalue: ', results.pvalue)\n",
    "if results.pvalue < alpha:\n",
    "    print('Отвергаем нулевую гипотезу: разница статистически значима')\n",
    "else:\n",
    "    print('Не получилось отвергнуть нулевую гипотезу, вывод о различии сделать нельзя')"
   ]
  },
  {
   "cell_type": "markdown",
   "metadata": {},
   "source": [
    "### GP - gross profit (маржа в день на ресторан, руб)<a id=\"step17\">"
   ]
  },
  {
   "cell_type": "markdown",
   "metadata": {},
   "source": [
    "#### Для Кассы"
   ]
  },
  {
   "cell_type": "code",
   "execution_count": 69,
   "metadata": {},
   "outputs": [],
   "source": [
    "gp_pre_cash = ars[(ars['period'] == 'Pre') & (ars['channel_name'] == 'Касса')]['gp'].tolist()\n",
    "gp_post_cash = ars[(ars['period'] == 'Post') & (ars['channel_name'] == 'Касса')]['gp'].tolist()"
   ]
  },
  {
   "cell_type": "code",
   "execution_count": 70,
   "metadata": {
    "scrolled": true
   },
   "outputs": [
    {
     "name": "stdout",
     "output_type": "stream",
     "text": [
      "pvalue:  0.03400655172809331\n",
      "Отвергаем нулевую гипотезу: разница статистически значима\n"
     ]
    }
   ],
   "source": [
    "alpha = 0.05\n",
    "results = st.mannwhitneyu(gp_pre_cash, gp_post_cash)\n",
    "print('pvalue: ', results.pvalue)\n",
    "if results.pvalue < alpha:\n",
    "    print('Отвергаем нулевую гипотезу: разница статистически значима')\n",
    "else:\n",
    "    print('Не получилось отвергнуть нулевую гипотезу, вывод о различии сделать нельзя')"
   ]
  },
  {
   "cell_type": "markdown",
   "metadata": {},
   "source": [
    "#### Для Приложения"
   ]
  },
  {
   "cell_type": "code",
   "execution_count": 71,
   "metadata": {},
   "outputs": [],
   "source": [
    "gp_pre_app = ars[(ars['period'] == 'Pre') & (ars['channel_name'] == 'Приложение')]['gp'].tolist()\n",
    "gp_post_app = ars[(ars['period'] == 'Post') & (ars['channel_name'] == 'Приложение')]['gp'].tolist()"
   ]
  },
  {
   "cell_type": "code",
   "execution_count": 72,
   "metadata": {},
   "outputs": [
    {
     "name": "stdout",
     "output_type": "stream",
     "text": [
      "pvalue:  0.0007984433525880062\n",
      "Отвергаем нулевую гипотезу: разница статистически значима\n"
     ]
    }
   ],
   "source": [
    "alpha = 0.05\n",
    "results = st.mannwhitneyu(gp_pre_app, gp_post_app)\n",
    "print('pvalue: ', results.pvalue)\n",
    "if results.pvalue < alpha:\n",
    "    print('Отвергаем нулевую гипотезу: разница статистически значима')\n",
    "else:\n",
    "    print('Не получилось отвергнуть нулевую гипотезу, вывод о различии сделать нельзя')"
   ]
  },
  {
   "cell_type": "markdown",
   "metadata": {},
   "source": [
    "### Изменение средней доли продаж чизбургера<a id=\"step18\">"
   ]
  },
  {
   "cell_type": "markdown",
   "metadata": {},
   "source": [
    "#### Для Кассы"
   ]
  },
  {
   "cell_type": "code",
   "execution_count": 73,
   "metadata": {},
   "outputs": [],
   "source": [
    "cheese_pre_cash = auv_share_cheese[(auv_share_cheese['period'] == 'Pre') \n",
    "                                   & (auv_share_cheese['channel_name'] == 'Касса')]['cheese_share'].tolist()\n",
    "cheese_post_cash = auv_share_cheese[(auv_share_cheese['period'] == 'Post')\n",
    "                                    & (auv_share_cheese['channel_name'] == 'Касса')]['cheese_share'].tolist()"
   ]
  },
  {
   "cell_type": "code",
   "execution_count": 74,
   "metadata": {
    "scrolled": true
   },
   "outputs": [
    {
     "name": "stdout",
     "output_type": "stream",
     "text": [
      "pvalue:  0.04502976347126253\n",
      "Отвергаем нулевую гипотезу: разница статистически значима\n"
     ]
    }
   ],
   "source": [
    "alpha = 0.05\n",
    "results = st.mannwhitneyu(cheese_pre_cash, cheese_post_cash)\n",
    "print('pvalue: ', results.pvalue)\n",
    "if results.pvalue < alpha:\n",
    "    print('Отвергаем нулевую гипотезу: разница статистически значима')\n",
    "else:\n",
    "    print('Не получилось отвергнуть нулевую гипотезу, вывод о различии сделать нельзя')"
   ]
  },
  {
   "cell_type": "markdown",
   "metadata": {},
   "source": [
    "#### Для Приложения"
   ]
  },
  {
   "cell_type": "code",
   "execution_count": 75,
   "metadata": {},
   "outputs": [],
   "source": [
    "cheese_pre_app = auv_share_cheese[(auv_share_cheese['period'] == 'Pre') \n",
    "                                   & (auv_share_cheese['channel_name'] == 'Приложение')]['cheese_share'].tolist()\n",
    "cheese_post_app = auv_share_cheese[(auv_share_cheese['period'] == 'Post')\n",
    "                                    & (auv_share_cheese['channel_name'] == 'Приложение')]['cheese_share'].tolist()"
   ]
  },
  {
   "cell_type": "code",
   "execution_count": 76,
   "metadata": {
    "scrolled": true
   },
   "outputs": [
    {
     "name": "stdout",
     "output_type": "stream",
     "text": [
      "pvalue:  0.4324968530822437\n",
      "Не получилось отвергнуть нулевую гипотезу, вывод о различии сделать нельзя\n"
     ]
    }
   ],
   "source": [
    "alpha = 0.05\n",
    "results = st.mannwhitneyu(cheese_pre_app, cheese_post_app)\n",
    "print('pvalue: ', results.pvalue)\n",
    "if results.pvalue < alpha:\n",
    "    print('Отвергаем нулевую гипотезу: разница статистически значима')\n",
    "else:\n",
    "    print('Не получилось отвергнуть нулевую гипотезу, вывод о различии сделать нельзя')"
   ]
  },
  {
   "cell_type": "markdown",
   "metadata": {},
   "source": [
    "## Вывод<a id=\"step19\">"
   ]
  },
  {
   "cell_type": "markdown",
   "metadata": {},
   "source": [
    "По результатам проведенного теста можно следать следующие выводы:  \n",
    "- **ARS** - average retail sales (средняя выручка в день на ресторан, руб):\n",
    "    - по кассе - нельзя сделать вывод, что средняя выручка изменилась\n",
    "    - в приложении - после запуска теста выручка увеличилась\n",
    "- **ART** - average retail traffic (среднее кол-во чеков в день на ресторан):\n",
    "    - по кассе - увеличилось после запуска теста\n",
    "    - в приложении - увеличилось после запуска теста\n",
    "- **ARC** - average retail check (средний чек в день на ресторан, руб):\n",
    "    - по кассе - средний чек уменьшился после запуска теста\n",
    "    - в приложении - средний чек уменьшился после запуска теста\n",
    "- **GP**  - gross profit (маржа в день на ресторан, руб):\n",
    "    - по кассе - средняя маржа в день на ресторан увеличилась после запуска теста\n",
    "    - в приложении - средняя маржа в день на ресторан увеличилась после запуска теста\n",
    "- изменение средней **доли продаж чизбургеров**:\n",
    "    - по кассе - доля чизбургеров в общем количестве позиций уменьшилась после запуска теста\n",
    "    - в приложении - доля продаж чизбургеров не изменилась\n",
    "\n",
    "\n",
    "Итого вывод по кассе - количество чеков увеличилось, но средний чек упал, в результате выручка не изменилась, но маржа увеличилась. А доля чизбургеров в чеках уменьшилась, возможно потому что выросла доля сопутствующих чизбургеру товаров.  \n",
    "Итого вывод по приложению - выручка, среднее количество чеков, маржа увеличились. Но средний чек упал, а доля продаж чизбургеров не изменилась. Доля продаж чизбургеров в комбо увеличилась, но мы не можем считать это изменение значимым.\n",
    "\n",
    "Возможно, стоит изменения, предложенные в тесте, внедрить для приложений. Но для касс эти изменения не оказывают сильного влияния на улучшение бизнес показателей."
   ]
  }
 ],
 "metadata": {
  "kernelspec": {
   "display_name": "Python 3 (ipykernel)",
   "language": "python",
   "name": "python3"
  },
  "language_info": {
   "codemirror_mode": {
    "name": "ipython",
    "version": 3
   },
   "file_extension": ".py",
   "mimetype": "text/x-python",
   "name": "python",
   "nbconvert_exporter": "python",
   "pygments_lexer": "ipython3",
   "version": "3.10.9"
  }
 },
 "nbformat": 4,
 "nbformat_minor": 4
}
