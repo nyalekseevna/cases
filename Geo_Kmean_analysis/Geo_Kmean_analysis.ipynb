{
 "cells": [
  {
   "cell_type": "code",
   "execution_count": 1,
   "metadata": {},
   "outputs": [],
   "source": [
    "import pandas as pd\n",
    "import numpy as np\n",
    "from sklearn.cluster import KMeans\n",
    "import seaborn as sns\n",
    "import warnings\n",
    "warnings.filterwarnings(\"ignore\", category=RuntimeWarning)\n",
    "import math\n",
    "import matplotlib.pyplot as plt\n",
    "import seaborn as sns"
   ]
  },
  {
   "cell_type": "markdown",
   "metadata": {},
   "source": [
    "Источник дата сета [ссылка](https://www.kaggle.com/datasets/chetanism/foursquare-nyc-and-tokyo-checkin-dataset?resource=download)"
   ]
  },
  {
   "cell_type": "markdown",
   "metadata": {},
   "source": [
    "#### План работы:\n",
    "- [Шаг 1. Исследовательский анализ данных](#step1)\n",
    "    - [Загрузка, преобразование utcTimestamp](#step2)  \n",
    "    - [Анализ распределения данных времени и локации событий (дом/не дом)](#step3)\n",
    "    - [Исключение пользователей с аномальным кол-вом событий вне дома в 1 день](#step4)  \n",
    "- [Шаг 2. Кластеризация координат локаций с помощью алгоритма KMeans](#step5)\n",
    "    - [Кластеризация координат локаций вне дома](#step6)\n",
    "    - [Функция расчета расстояний в метрах между координатами](#step7)\n",
    "    - [Визуализация полученных кластеров (на примере нескольких)](#step8)\n",
    "    - [Кластеризация домашних адресов](#step9)\n",
    "    - [Определение для каждого пользователя одного адреса в качестве домашнего](#step10)\n",
    "- [Шаг 3. Определение типа локаций, которые пользователи чаще посещают близко / далеко от дома](#step11)\n",
    "    - [Расстояние от центра кластера дом до центров кластеров локаций для каждого пользователя](#step12)\n",
    "    - [Топ 15 самых ближних часто посещаемых к дому локаций](#step13)\n",
    "    - [Топ 15 самых удаленных часто посещаемых от дома локаций](#step14)\n",
    "- [Шаг 4. Выводы](#step15)"
   ]
  },
  {
   "cell_type": "markdown",
   "metadata": {},
   "source": [
    "#### Описание данных\n",
    "df:  \n",
    "- `userId` уникальный идентивикатор пользователя. \n",
    "- `venueCategory` категория локации, которую пользователь посещал (аэропорт, аптека, дом и т.д.)\n",
    "- `utcTimestamp` дата посещения пользователем локации\n",
    "- `latitude` координата широты локации\n",
    "- `longitude` координата долготы локации"
   ]
  },
  {
   "cell_type": "markdown",
   "metadata": {},
   "source": [
    "### Исследовательский анализ данных<a id=step1>"
   ]
  },
  {
   "cell_type": "markdown",
   "metadata": {},
   "source": [
    "### Загрузка, преобразование utcTimestamp<a id=step2>"
   ]
  },
  {
   "cell_type": "code",
   "execution_count": 2,
   "metadata": {},
   "outputs": [],
   "source": [
    "df = pd.read_csv('dataset_TSMC2014_NYC.csv')"
   ]
  },
  {
   "cell_type": "code",
   "execution_count": 3,
   "metadata": {
    "scrolled": true
   },
   "outputs": [
    {
     "name": "stdout",
     "output_type": "stream",
     "text": [
      "<class 'pandas.core.frame.DataFrame'>\n",
      "RangeIndex: 227428 entries, 0 to 227427\n",
      "Data columns (total 8 columns):\n",
      " #   Column           Non-Null Count   Dtype  \n",
      "---  ------           --------------   -----  \n",
      " 0   userId           227428 non-null  int64  \n",
      " 1   venueId          227428 non-null  object \n",
      " 2   venueCategoryId  227428 non-null  object \n",
      " 3   venueCategory    227428 non-null  object \n",
      " 4   latitude         227428 non-null  float64\n",
      " 5   longitude        227428 non-null  float64\n",
      " 6   timezoneOffset   227428 non-null  int64  \n",
      " 7   utcTimestamp     227428 non-null  object \n",
      "dtypes: float64(2), int64(2), object(4)\n",
      "memory usage: 13.9+ MB\n"
     ]
    }
   ],
   "source": [
    "df.info()"
   ]
  },
  {
   "cell_type": "code",
   "execution_count": 4,
   "metadata": {},
   "outputs": [],
   "source": [
    "df['date'] = pd.DatetimeIndex(df['utcTimestamp'])\n",
    "df['date'] = df['date'].dt.date\n",
    "df['date'] = pd.to_datetime(df['date'], format='%Y-%m-%d')"
   ]
  },
  {
   "cell_type": "code",
   "execution_count": 5,
   "metadata": {},
   "outputs": [
    {
     "data": {
      "text/html": [
       "<div>\n",
       "<style scoped>\n",
       "    .dataframe tbody tr th:only-of-type {\n",
       "        vertical-align: middle;\n",
       "    }\n",
       "\n",
       "    .dataframe tbody tr th {\n",
       "        vertical-align: top;\n",
       "    }\n",
       "\n",
       "    .dataframe thead th {\n",
       "        text-align: right;\n",
       "    }\n",
       "</style>\n",
       "<table border=\"1\" class=\"dataframe\">\n",
       "  <thead>\n",
       "    <tr style=\"text-align: right;\">\n",
       "      <th></th>\n",
       "      <th>userId</th>\n",
       "      <th>venueId</th>\n",
       "      <th>venueCategoryId</th>\n",
       "      <th>venueCategory</th>\n",
       "      <th>latitude</th>\n",
       "      <th>longitude</th>\n",
       "      <th>timezoneOffset</th>\n",
       "      <th>utcTimestamp</th>\n",
       "      <th>date</th>\n",
       "    </tr>\n",
       "  </thead>\n",
       "  <tbody>\n",
       "    <tr>\n",
       "      <th>0</th>\n",
       "      <td>470</td>\n",
       "      <td>49bbd6c0f964a520f4531fe3</td>\n",
       "      <td>4bf58dd8d48988d127951735</td>\n",
       "      <td>Arts &amp; Crafts Store</td>\n",
       "      <td>40.71981</td>\n",
       "      <td>-74.002581</td>\n",
       "      <td>-240</td>\n",
       "      <td>Tue Apr 03 18:00:09 +0000 2012</td>\n",
       "      <td>2012-04-03</td>\n",
       "    </tr>\n",
       "    <tr>\n",
       "      <th>1</th>\n",
       "      <td>979</td>\n",
       "      <td>4a43c0aef964a520c6a61fe3</td>\n",
       "      <td>4bf58dd8d48988d1df941735</td>\n",
       "      <td>Bridge</td>\n",
       "      <td>40.60680</td>\n",
       "      <td>-74.044170</td>\n",
       "      <td>-240</td>\n",
       "      <td>Tue Apr 03 18:00:25 +0000 2012</td>\n",
       "      <td>2012-04-03</td>\n",
       "    </tr>\n",
       "  </tbody>\n",
       "</table>\n",
       "</div>"
      ],
      "text/plain": [
       "   userId                   venueId           venueCategoryId  \\\n",
       "0     470  49bbd6c0f964a520f4531fe3  4bf58dd8d48988d127951735   \n",
       "1     979  4a43c0aef964a520c6a61fe3  4bf58dd8d48988d1df941735   \n",
       "\n",
       "         venueCategory  latitude  longitude  timezoneOffset  \\\n",
       "0  Arts & Crafts Store  40.71981 -74.002581            -240   \n",
       "1               Bridge  40.60680 -74.044170            -240   \n",
       "\n",
       "                     utcTimestamp       date  \n",
       "0  Tue Apr 03 18:00:09 +0000 2012 2012-04-03  \n",
       "1  Tue Apr 03 18:00:25 +0000 2012 2012-04-03  "
      ]
     },
     "execution_count": 5,
     "metadata": {},
     "output_type": "execute_result"
    }
   ],
   "source": [
    "df.head(2)"
   ]
  },
  {
   "cell_type": "markdown",
   "metadata": {},
   "source": [
    "### Анализ распределения данных времени и локации событий (дом/не дом) <a id=step3>"
   ]
  },
  {
   "cell_type": "code",
   "execution_count": 6,
   "metadata": {},
   "outputs": [
    {
     "data": {
      "image/png": "[encoded data removed]",
      "text/plain": [
       "<Figure size 1200x300 with 1 Axes>"
      ]
     },
     "metadata": {},
     "output_type": "display_data"
    }
   ],
   "source": [
    "#событий в день на 1 пользователя\n",
    "pv = df.pivot_table(index=['date'] ,values='venueId', aggfunc='count').reset_index()\n",
    "plt.figure(figsize=(12, 3))\n",
    "plt.title('Количество событий по дням')\n",
    "ax = sns.lineplot(x=\"date\", y=\"venueId\", data=pv)"
   ]
  },
  {
   "cell_type": "markdown",
   "metadata": {},
   "source": [
    "Для расчетов оставим только пользователей, чьи домашние адреса нам известны."
   ]
  },
  {
   "cell_type": "code",
   "execution_count": 7,
   "metadata": {},
   "outputs": [
    {
     "data": {
      "text/html": [
       "<div>\n",
       "<style scoped>\n",
       "    .dataframe tbody tr th:only-of-type {\n",
       "        vertical-align: middle;\n",
       "    }\n",
       "\n",
       "    .dataframe tbody tr th {\n",
       "        vertical-align: top;\n",
       "    }\n",
       "\n",
       "    .dataframe thead th {\n",
       "        text-align: right;\n",
       "    }\n",
       "</style>\n",
       "<table border=\"1\" class=\"dataframe\">\n",
       "  <thead>\n",
       "    <tr style=\"text-align: right;\">\n",
       "      <th></th>\n",
       "      <th>count</th>\n",
       "      <th>mean</th>\n",
       "      <th>std</th>\n",
       "      <th>min</th>\n",
       "      <th>25%</th>\n",
       "      <th>50%</th>\n",
       "      <th>75%</th>\n",
       "      <th>max</th>\n",
       "    </tr>\n",
       "  </thead>\n",
       "  <tbody>\n",
       "    <tr>\n",
       "      <th>venueCategoryId</th>\n",
       "      <td>587.0</td>\n",
       "      <td>49.340716</td>\n",
       "      <td>19.313908</td>\n",
       "      <td>7.0</td>\n",
       "      <td>36.0</td>\n",
       "      <td>47.0</td>\n",
       "      <td>60.0</td>\n",
       "      <td>180.0</td>\n",
       "    </tr>\n",
       "  </tbody>\n",
       "</table>\n",
       "</div>"
      ],
      "text/plain": [
       "                 count       mean        std  min   25%   50%   75%    max\n",
       "venueCategoryId  587.0  49.340716  19.313908  7.0  36.0  47.0  60.0  180.0"
      ]
     },
     "execution_count": 7,
     "metadata": {},
     "output_type": "execute_result"
    }
   ],
   "source": [
    "users_home = df.loc[df['venueCategory'] == 'Home (private)']['userId'].values\n",
    "df = df.query('userId in @users_home')\n",
    "df.groupby('userId').agg({'venueCategoryId':'nunique'}).describe().T"
   ]
  },
  {
   "cell_type": "markdown",
   "metadata": {},
   "source": [
    "Каждый из пользователей совершает некоторое количество событий в нескольких категориях локаций. Половина пользователей посетила до 47 локаций и не менее 7. "
   ]
  },
  {
   "cell_type": "markdown",
   "metadata": {},
   "source": [
    "#### Cобытия не дома"
   ]
  },
  {
   "cell_type": "code",
   "execution_count": 8,
   "metadata": {},
   "outputs": [],
   "source": [
    "df_venue_not_home = df.loc[df['venueCategory'] != 'Home (private)']"
   ]
  },
  {
   "cell_type": "code",
   "execution_count": 9,
   "metadata": {},
   "outputs": [
    {
     "name": "stdout",
     "output_type": "stream",
     "text": [
      "Доля событий, где пользователь отмечали в один день более 1 раза 12.47%\n"
     ]
    },
    {
     "name": "stderr",
     "output_type": "stream",
     "text": [
      "/var/folders/z_/prw26dp909b0qyhxlmh35myh0000gn/T/ipykernel_9813/818620945.py:5: SettingWithCopyWarning: \n",
      "A value is trying to be set on a copy of a slice from a DataFrame\n",
      "\n",
      "See the caveats in the documentation: https://pandas.pydata.org/pandas-docs/stable/user_guide/indexing.html#returning-a-view-versus-a-copy\n",
      "  df_venue_not_home.drop_duplicates(subset=['userId', 'date', 'venueCategoryId'], inplace=True)\n"
     ]
    }
   ],
   "source": [
    "#удалим дубликаты где пользователь в 1 день отмечался более 1 раза в одном и том же месте\n",
    "print('Доля событий, где пользователь отмечали в один день более 1 раза {:.2%}'\n",
    "      .format(df_venue_not_home.duplicated(subset=['userId', 'date', 'venueCategoryId']).sum()\n",
    "              /len(df_venue_not_home)))\n",
    "df_venue_not_home.drop_duplicates(subset=['userId', 'date', 'venueCategoryId'], inplace=True)"
   ]
  },
  {
   "cell_type": "markdown",
   "metadata": {},
   "source": [
    "### Исключение пользователей с аномальным кол-вом событий вне дома в 1 день<a id=step4>"
   ]
  },
  {
   "cell_type": "code",
   "execution_count": 10,
   "metadata": {},
   "outputs": [],
   "source": [
    "#событий в день на 1 пользователя\n",
    "abnormal = df_venue_not_home.pivot_table(index=['userId','date'] ,values='venueId', aggfunc='count').reset_index()"
   ]
  },
  {
   "cell_type": "code",
   "execution_count": 11,
   "metadata": {},
   "outputs": [
    {
     "data": {
      "text/plain": [
       "[(0.0, 35.0)]"
      ]
     },
     "execution_count": 11,
     "metadata": {},
     "output_type": "execute_result"
    },
    {
     "data": {
      "image/png": "[encoded data removed]",
      "text/plain": [
       "<Figure size 500x300 with 1 Axes>"
      ]
     },
     "metadata": {},
     "output_type": "display_data"
    }
   ],
   "source": [
    "plt.figure(figsize=(5,3))\n",
    "plt.title('Распределение событий в день на 1 пользователя')\n",
    "ax = sns.violinplot(y='venueId', data=abnormal)\n",
    "ax.set(ylim=(0, 35))"
   ]
  },
  {
   "cell_type": "code",
   "execution_count": 12,
   "metadata": {},
   "outputs": [
    {
     "name": "stdout",
     "output_type": "stream",
     "text": [
      "max 15.0\n",
      "Аномальных userId 23\n",
      "Аномальных userId 3.92%\n"
     ]
    }
   ],
   "source": [
    "Q1 = abnormal['venueId'].quantile(0.25)\n",
    "Q3 = abnormal['venueId'].quantile(0.75)\n",
    "IQR = Q3 - Q1\n",
    "print('max', Q3+6*IQR)\n",
    "print('Аномальных userId', abnormal[abnormal['venueId']>Q3+6*IQR]['userId'].nunique())\n",
    "print('Аномальных userId {:.2%}'.format(abnormal[abnormal['venueId']>Q3+6*IQR]['userId'].nunique()\n",
    "                                        /abnormal['userId'].nunique()))"
   ]
  },
  {
   "cell_type": "code",
   "execution_count": 13,
   "metadata": {},
   "outputs": [],
   "source": [
    "abnormal_users = abnormal[abnormal['venueId']>15]['userId'].unique()\n",
    "df_venue_not_home = df_venue_not_home.query('userId not in @abnormal_users')"
   ]
  },
  {
   "cell_type": "markdown",
   "metadata": {},
   "source": [
    "#### Cобытия дома"
   ]
  },
  {
   "cell_type": "code",
   "execution_count": 14,
   "metadata": {},
   "outputs": [
    {
     "data": {
      "text/html": [
       "<div>\n",
       "<style scoped>\n",
       "    .dataframe tbody tr th:only-of-type {\n",
       "        vertical-align: middle;\n",
       "    }\n",
       "\n",
       "    .dataframe tbody tr th {\n",
       "        vertical-align: top;\n",
       "    }\n",
       "\n",
       "    .dataframe thead th {\n",
       "        text-align: right;\n",
       "    }\n",
       "</style>\n",
       "<table border=\"1\" class=\"dataframe\">\n",
       "  <thead>\n",
       "    <tr style=\"text-align: right;\">\n",
       "      <th></th>\n",
       "      <th>userId</th>\n",
       "      <th>venueId</th>\n",
       "      <th>venueCategoryId</th>\n",
       "      <th>venueCategory</th>\n",
       "      <th>lat_home</th>\n",
       "      <th>lon_home</th>\n",
       "      <th>timezoneOffset</th>\n",
       "      <th>utcTimestamp</th>\n",
       "      <th>date</th>\n",
       "    </tr>\n",
       "  </thead>\n",
       "  <tbody>\n",
       "    <tr>\n",
       "      <th>2</th>\n",
       "      <td>69</td>\n",
       "      <td>4c5cc7b485a1e21e00d35711</td>\n",
       "      <td>4bf58dd8d48988d103941735</td>\n",
       "      <td>Home (private)</td>\n",
       "      <td>40.716162</td>\n",
       "      <td>-73.883070</td>\n",
       "      <td>-240</td>\n",
       "      <td>Tue Apr 03 18:02:24 +0000 2012</td>\n",
       "      <td>2012-04-03</td>\n",
       "    </tr>\n",
       "    <tr>\n",
       "      <th>8</th>\n",
       "      <td>428</td>\n",
       "      <td>4ce1863bc4f6a35d8bd2db6c</td>\n",
       "      <td>4bf58dd8d48988d103941735</td>\n",
       "      <td>Home (private)</td>\n",
       "      <td>40.619151</td>\n",
       "      <td>-74.035888</td>\n",
       "      <td>-240</td>\n",
       "      <td>Tue Apr 03 18:06:18 +0000 2012</td>\n",
       "      <td>2012-04-03</td>\n",
       "    </tr>\n",
       "  </tbody>\n",
       "</table>\n",
       "</div>"
      ],
      "text/plain": [
       "   userId                   venueId           venueCategoryId   venueCategory  \\\n",
       "2      69  4c5cc7b485a1e21e00d35711  4bf58dd8d48988d103941735  Home (private)   \n",
       "8     428  4ce1863bc4f6a35d8bd2db6c  4bf58dd8d48988d103941735  Home (private)   \n",
       "\n",
       "    lat_home   lon_home  timezoneOffset                    utcTimestamp  \\\n",
       "2  40.716162 -73.883070            -240  Tue Apr 03 18:02:24 +0000 2012   \n",
       "8  40.619151 -74.035888            -240  Tue Apr 03 18:06:18 +0000 2012   \n",
       "\n",
       "        date  \n",
       "2 2012-04-03  \n",
       "8 2012-04-03  "
      ]
     },
     "execution_count": 14,
     "metadata": {},
     "output_type": "execute_result"
    }
   ],
   "source": [
    "#дом\n",
    "df_venue_home = df.copy()\n",
    "df_venue_home = df_venue_home.loc[df_venue_home['venueCategory'] == 'Home (private)']\n",
    "df_venue_home.duplicated().sum()\n",
    "df_venue_home.drop_duplicates(inplace=True)\n",
    "df_venue_home.rename(columns={'latitude':'lat_home', 'longitude':'lon_home'}, inplace=True)\n",
    "#df_venue_home['lat_lot'] = df_venue_home[['lat_home', 'lon_home']].astype(str).agg(' '.join, axis=1)\n",
    "df_venue_home.head(2)"
   ]
  },
  {
   "cell_type": "markdown",
   "metadata": {},
   "source": [
    "#### Оставим пользователей, которые есть в обоих датафреймах (с адресом и с неаномальным кол-вом событий)"
   ]
  },
  {
   "cell_type": "code",
   "execution_count": 15,
   "metadata": {},
   "outputs": [],
   "source": [
    "userId = df_venue_home.loc[:,['userId']].merge(df_venue_not_home.loc[:, ['userId']], how='inner').drop_duplicates()\n",
    "userId = userId['userId'].to_list()\n",
    "df_venue_home = df_venue_home.query('userId in @userId')\n",
    "df_venue_not_home = df_venue_not_home.query('userId in @userId')"
   ]
  },
  {
   "cell_type": "code",
   "execution_count": 16,
   "metadata": {},
   "outputs": [
    {
     "name": "stdout",
     "output_type": "stream",
     "text": [
      "Итого пользователей для анализа: 564\n",
      "Итого категорий событий для анализа: 248\n"
     ]
    }
   ],
   "source": [
    "print('Итого пользователей для анализа:', df_venue_home['userId'].nunique())\n",
    "print('Итого категорий локаций для анализа:', df_venue_not_home['venueCategory'].nunique())"
   ]
  },
  {
   "cell_type": "markdown",
   "metadata": {},
   "source": [
    "### Кластеризация координат локаций с помощью алгоритма KMeans<a id=step5>  "
   ]
  },
  {
   "cell_type": "markdown",
   "metadata": {},
   "source": [
    "#### Кластеризация координат локаций вне дома<a id=step6>"
   ]
  },
  {
   "cell_type": "code",
   "execution_count": 17,
   "metadata": {},
   "outputs": [],
   "source": [
    "df_cl = df_venue_not_home.loc[:, ['userId', 'venueCategoryId', 'venueCategory', 'latitude', 'longitude', 'date']]\n",
    "df_cl = df_cl.set_index(['userId', 'venueCategoryId', 'venueCategory', 'date'])"
   ]
  },
  {
   "cell_type": "code",
   "execution_count": 18,
   "metadata": {},
   "outputs": [
    {
     "name": "stderr",
     "output_type": "stream",
     "text": [
      "/Users/julia/anaconda3/lib/python3.10/site-packages/sklearn/cluster/_kmeans.py:870: FutureWarning: The default value of `n_init` will change from 10 to 'auto' in 1.4. Set the value of `n_init` explicitly to suppress the warning\n",
      "  warnings.warn(\n"
     ]
    },
    {
     "data": {
      "text/html": [
       "<style>#sk-container-id-1 {color: black;background-color: white;}#sk-container-id-1 pre{padding: 0;}#sk-container-id-1 div.sk-toggleable {background-color: white;}#sk-container-id-1 label.sk-toggleable__label {cursor: pointer;display: block;width: 100%;margin-bottom: 0;padding: 0.3em;box-sizing: border-box;text-align: center;}#sk-container-id-1 label.sk-toggleable__label-arrow:before {content: \"▸\";float: left;margin-right: 0.25em;color: #696969;}#sk-container-id-1 label.sk-toggleable__label-arrow:hover:before {color: black;}#sk-container-id-1 div.sk-estimator:hover label.sk-toggleable__label-arrow:before {color: black;}#sk-container-id-1 div.sk-toggleable__content {max-height: 0;max-width: 0;overflow: hidden;text-align: left;background-color: #f0f8ff;}#sk-container-id-1 div.sk-toggleable__content pre {margin: 0.2em;color: black;border-radius: 0.25em;background-color: #f0f8ff;}#sk-container-id-1 input.sk-toggleable__control:checked~div.sk-toggleable__content {max-height: 200px;max-width: 100%;overflow: auto;}#sk-container-id-1 input.sk-toggleable__control:checked~label.sk-toggleable__label-arrow:before {content: \"▾\";}#sk-container-id-1 div.sk-estimator input.sk-toggleable__control:checked~label.sk-toggleable__label {background-color: #d4ebff;}#sk-container-id-1 div.sk-label input.sk-toggleable__control:checked~label.sk-toggleable__label {background-color: #d4ebff;}#sk-container-id-1 input.sk-hidden--visually {border: 0;clip: rect(1px 1px 1px 1px);clip: rect(1px, 1px, 1px, 1px);height: 1px;margin: -1px;overflow: hidden;padding: 0;position: absolute;width: 1px;}#sk-container-id-1 div.sk-estimator {font-family: monospace;background-color: #f0f8ff;border: 1px dotted black;border-radius: 0.25em;box-sizing: border-box;margin-bottom: 0.5em;}#sk-container-id-1 div.sk-estimator:hover {background-color: #d4ebff;}#sk-container-id-1 div.sk-parallel-item::after {content: \"\";width: 100%;border-bottom: 1px solid gray;flex-grow: 1;}#sk-container-id-1 div.sk-label:hover label.sk-toggleable__label {background-color: #d4ebff;}#sk-container-id-1 div.sk-serial::before {content: \"\";position: absolute;border-left: 1px solid gray;box-sizing: border-box;top: 0;bottom: 0;left: 50%;z-index: 0;}#sk-container-id-1 div.sk-serial {display: flex;flex-direction: column;align-items: center;background-color: white;padding-right: 0.2em;padding-left: 0.2em;position: relative;}#sk-container-id-1 div.sk-item {position: relative;z-index: 1;}#sk-container-id-1 div.sk-parallel {display: flex;align-items: stretch;justify-content: center;background-color: white;position: relative;}#sk-container-id-1 div.sk-item::before, #sk-container-id-1 div.sk-parallel-item::before {content: \"\";position: absolute;border-left: 1px solid gray;box-sizing: border-box;top: 0;bottom: 0;left: 50%;z-index: -1;}#sk-container-id-1 div.sk-parallel-item {display: flex;flex-direction: column;z-index: 1;position: relative;background-color: white;}#sk-container-id-1 div.sk-parallel-item:first-child::after {align-self: flex-end;width: 50%;}#sk-container-id-1 div.sk-parallel-item:last-child::after {align-self: flex-start;width: 50%;}#sk-container-id-1 div.sk-parallel-item:only-child::after {width: 0;}#sk-container-id-1 div.sk-dashed-wrapped {border: 1px dashed gray;margin: 0 0.4em 0.5em 0.4em;box-sizing: border-box;padding-bottom: 0.4em;background-color: white;}#sk-container-id-1 div.sk-label label {font-family: monospace;font-weight: bold;display: inline-block;line-height: 1.2em;}#sk-container-id-1 div.sk-label-container {text-align: center;}#sk-container-id-1 div.sk-container {/* jupyter's `normalize.less` sets `[hidden] { display: none; }` but bootstrap.min.css set `[hidden] { display: none !important; }` so we also need the `!important` here to be able to override the default hidden behavior on the sphinx rendered scikit-learn.org. See: https://github.com/scikit-learn/scikit-learn/issues/21755 */display: inline-block !important;position: relative;}#sk-container-id-1 div.sk-text-repr-fallback {display: none;}</style><div id=\"sk-container-id-1\" class=\"sk-top-container\"><div class=\"sk-text-repr-fallback\"><pre>KMeans(n_clusters=1000, random_state=12345)</pre><b>In a Jupyter environment, please rerun this cell to show the HTML representation or trust the notebook. <br />On GitHub, the HTML representation is unable to render, please try loading this page with nbviewer.org.</b></div><div class=\"sk-container\" hidden><div class=\"sk-item\"><div class=\"sk-estimator sk-toggleable\"><input class=\"sk-toggleable__control sk-hidden--visually\" id=\"sk-estimator-id-1\" type=\"checkbox\" checked><label for=\"sk-estimator-id-1\" class=\"sk-toggleable__label sk-toggleable__label-arrow\">KMeans</label><div class=\"sk-toggleable__content\"><pre>KMeans(n_clusters=1000, random_state=12345)</pre></div></div></div></div></div>"
      ],
      "text/plain": [
       "KMeans(n_clusters=1000, random_state=12345)"
      ]
     },
     "execution_count": 18,
     "metadata": {},
     "output_type": "execute_result"
    }
   ],
   "source": [
    "model = KMeans(n_clusters=1000, random_state=12345)\n",
    "model.fit(df_cl)"
   ]
  },
  {
   "cell_type": "code",
   "execution_count": 19,
   "metadata": {},
   "outputs": [],
   "source": [
    "centroids = pd.DataFrame(model.cluster_centers_, columns=['latitude', 'longitude'])\n",
    "df_cl['label'] = model.labels_.astype(str)\n",
    "centroids = centroids.reset_index()\n",
    "centroids.columns = ['label', 'latitude', 'longitude']\n",
    "df_cl['label'] = df_cl['label'].astype('int')\n",
    "df_cl_all = df_cl.merge(centroids, how='left', on='label')\n",
    "df_cl_all.columns = ['latitude', 'longitude', 'claster', 'latitude_centroid', 'longitude_centroid']\n",
    "#добавим user_id \n",
    "df_cl = df_cl.reset_index().drop(columns='label')\n",
    "df_cl_all = df_cl_all.merge(df_cl, how='left', on=['latitude', 'longitude'])"
   ]
  },
  {
   "cell_type": "code",
   "execution_count": 20,
   "metadata": {
    "scrolled": false
   },
   "outputs": [
    {
     "data": {
      "text/html": [
       "<div>\n",
       "<style scoped>\n",
       "    .dataframe tbody tr th:only-of-type {\n",
       "        vertical-align: middle;\n",
       "    }\n",
       "\n",
       "    .dataframe tbody tr th {\n",
       "        vertical-align: top;\n",
       "    }\n",
       "\n",
       "    .dataframe thead th {\n",
       "        text-align: right;\n",
       "    }\n",
       "</style>\n",
       "<table border=\"1\" class=\"dataframe\">\n",
       "  <thead>\n",
       "    <tr style=\"text-align: right;\">\n",
       "      <th></th>\n",
       "      <th>userId</th>\n",
       "      <th>longitude</th>\n",
       "      <th>latitude_centroid</th>\n",
       "    </tr>\n",
       "  </thead>\n",
       "  <tbody>\n",
       "    <tr>\n",
       "      <th>count</th>\n",
       "      <td>1000.000000</td>\n",
       "      <td>1000.000000</td>\n",
       "      <td>1000.0</td>\n",
       "    </tr>\n",
       "    <tr>\n",
       "      <th>mean</th>\n",
       "      <td>23.988000</td>\n",
       "      <td>2247.835000</td>\n",
       "      <td>1.0</td>\n",
       "    </tr>\n",
       "    <tr>\n",
       "      <th>std</th>\n",
       "      <td>30.579159</td>\n",
       "      <td>7714.539776</td>\n",
       "      <td>0.0</td>\n",
       "    </tr>\n",
       "    <tr>\n",
       "      <th>min</th>\n",
       "      <td>1.000000</td>\n",
       "      <td>2.000000</td>\n",
       "      <td>1.0</td>\n",
       "    </tr>\n",
       "    <tr>\n",
       "      <th>25%</th>\n",
       "      <td>7.000000</td>\n",
       "      <td>154.000000</td>\n",
       "      <td>1.0</td>\n",
       "    </tr>\n",
       "    <tr>\n",
       "      <th>50%</th>\n",
       "      <td>13.000000</td>\n",
       "      <td>612.500000</td>\n",
       "      <td>1.0</td>\n",
       "    </tr>\n",
       "    <tr>\n",
       "      <th>75%</th>\n",
       "      <td>25.000000</td>\n",
       "      <td>2009.250000</td>\n",
       "      <td>1.0</td>\n",
       "    </tr>\n",
       "    <tr>\n",
       "      <th>max</th>\n",
       "      <td>229.000000</td>\n",
       "      <td>163540.000000</td>\n",
       "      <td>1.0</td>\n",
       "    </tr>\n",
       "  </tbody>\n",
       "</table>\n",
       "</div>"
      ],
      "text/plain": [
       "            userId      longitude  latitude_centroid\n",
       "count  1000.000000    1000.000000             1000.0\n",
       "mean     23.988000    2247.835000                1.0\n",
       "std      30.579159    7714.539776                0.0\n",
       "min       1.000000       2.000000                1.0\n",
       "25%       7.000000     154.000000                1.0\n",
       "50%      13.000000     612.500000                1.0\n",
       "75%      25.000000    2009.250000                1.0\n",
       "max     229.000000  163540.000000                1.0"
      ]
     },
     "execution_count": 20,
     "metadata": {},
     "output_type": "execute_result"
    }
   ],
   "source": [
    "#посмотрим на распределение кол-ва координат и пользователей в каждом кластере\n",
    "df_cl_all.groupby(['claster']).agg({'userId':'nunique',\n",
    "                                    'longitude':'count', 'latitude_centroid':'nunique'}).describe()"
   ]
  },
  {
   "cell_type": "markdown",
   "metadata": {},
   "source": [
    "#### Функция расчета расстояний в метрах между координатами<a id=step7>"
   ]
  },
  {
   "cell_type": "code",
   "execution_count": 21,
   "metadata": {},
   "outputs": [],
   "source": [
    "#посчитаем расстояния в метрах от центра кластера до точек координат, которые в него входят\n",
    "def d(row):\n",
    "    latitude_centroid = row[3]\n",
    "    latitude = row[0]\n",
    "    longitude_centroid = row[4]\n",
    "    longitude = row[1]\n",
    "    for i in range(len(row)):\n",
    "        R = 6371000\n",
    "        lat1 = latitude_centroid * math.pi / 180\n",
    "        lat2 = latitude * math.pi / 180\n",
    "        delta_lat = ((latitude - latitude_centroid) * math.pi / 180)\n",
    "        delta_lon = ((longitude - longitude_centroid) * math.pi / 180)\n",
    "        a=math.sin(delta_lat/2)*math.sin(delta_lat/2)+ math.cos(lat1)*math.cos(lat2)*math.sin(delta_lon/2)*math.sin(delta_lon/2)\n",
    "        c = 2*math.atan2(math.sqrt(a),math.sqrt(1-a))\n",
    "        d=R*c\n",
    "    return d\n",
    "df_cl_all['distance_venue_centroid'] = df_cl_all.apply(d, axis=1)"
   ]
  },
  {
   "cell_type": "code",
   "execution_count": 22,
   "metadata": {},
   "outputs": [
    {
     "data": {
      "text/plain": [
       "array([ 33.23220742,  67.75868664, 122.57741389, 257.36639732])"
      ]
     },
     "execution_count": 22,
     "metadata": {},
     "output_type": "execute_result"
    }
   ],
   "source": [
    "np.percentile(df_cl_all['distance_venue_centroid'], [25, 50, 75, 95])"
   ]
  },
  {
   "cell_type": "code",
   "execution_count": 23,
   "metadata": {},
   "outputs": [
    {
     "data": {
      "text/html": [
       "<div>\n",
       "<style scoped>\n",
       "    .dataframe tbody tr th:only-of-type {\n",
       "        vertical-align: middle;\n",
       "    }\n",
       "\n",
       "    .dataframe tbody tr th {\n",
       "        vertical-align: top;\n",
       "    }\n",
       "\n",
       "    .dataframe thead th {\n",
       "        text-align: right;\n",
       "    }\n",
       "</style>\n",
       "<table border=\"1\" class=\"dataframe\">\n",
       "  <thead>\n",
       "    <tr style=\"text-align: right;\">\n",
       "      <th></th>\n",
       "      <th>latitude</th>\n",
       "      <th>longitude</th>\n",
       "      <th>claster</th>\n",
       "      <th>latitude_centroid</th>\n",
       "      <th>longitude_centroid</th>\n",
       "      <th>userId</th>\n",
       "      <th>venueCategoryId</th>\n",
       "      <th>venueCategory</th>\n",
       "      <th>date</th>\n",
       "      <th>distance_venue_centroid</th>\n",
       "    </tr>\n",
       "  </thead>\n",
       "  <tbody>\n",
       "    <tr>\n",
       "      <th>0</th>\n",
       "      <td>40.745164</td>\n",
       "      <td>-73.982519</td>\n",
       "      <td>779</td>\n",
       "      <td>40.746023</td>\n",
       "      <td>-73.981627</td>\n",
       "      <td>395</td>\n",
       "      <td>4bf58dd8d48988d104941735</td>\n",
       "      <td>Medical Center</td>\n",
       "      <td>2012-04-03</td>\n",
       "      <td>121.543900</td>\n",
       "    </tr>\n",
       "    <tr>\n",
       "      <th>1</th>\n",
       "      <td>40.740104</td>\n",
       "      <td>-73.989658</td>\n",
       "      <td>658</td>\n",
       "      <td>40.741668</td>\n",
       "      <td>-73.989308</td>\n",
       "      <td>87</td>\n",
       "      <td>4bf58dd8d48988d1cb941735</td>\n",
       "      <td>Food Truck</td>\n",
       "      <td>2012-04-03</td>\n",
       "      <td>176.433269</td>\n",
       "    </tr>\n",
       "  </tbody>\n",
       "</table>\n",
       "</div>"
      ],
      "text/plain": [
       "    latitude  longitude  claster  latitude_centroid  longitude_centroid  \\\n",
       "0  40.745164 -73.982519      779          40.746023          -73.981627   \n",
       "1  40.740104 -73.989658      658          40.741668          -73.989308   \n",
       "\n",
       "   userId           venueCategoryId   venueCategory       date  \\\n",
       "0     395  4bf58dd8d48988d104941735  Medical Center 2012-04-03   \n",
       "1      87  4bf58dd8d48988d1cb941735      Food Truck 2012-04-03   \n",
       "\n",
       "   distance_venue_centroid  \n",
       "0               121.543900  \n",
       "1               176.433269  "
      ]
     },
     "execution_count": 23,
     "metadata": {},
     "output_type": "execute_result"
    }
   ],
   "source": [
    "df_cl_all.head(2)"
   ]
  },
  {
   "cell_type": "markdown",
   "metadata": {},
   "source": [
    "#### Визуализация полученных кластеров (на примере нескольких)<a id=step8>\n",
    "для примера возьмем 2 ближайших кластера "
   ]
  },
  {
   "cell_type": "code",
   "execution_count": 24,
   "metadata": {},
   "outputs": [
    {
     "data": {
      "text/html": [
       "<div>\n",
       "<style scoped>\n",
       "    .dataframe tbody tr th:only-of-type {\n",
       "        vertical-align: middle;\n",
       "    }\n",
       "\n",
       "    .dataframe tbody tr th {\n",
       "        vertical-align: top;\n",
       "    }\n",
       "\n",
       "    .dataframe thead th {\n",
       "        text-align: right;\n",
       "    }\n",
       "</style>\n",
       "<table border=\"1\" class=\"dataframe\">\n",
       "  <thead>\n",
       "    <tr style=\"text-align: right;\">\n",
       "      <th></th>\n",
       "      <th>latitude</th>\n",
       "      <th>longitude</th>\n",
       "      <th>claster</th>\n",
       "      <th>latitude_centroid</th>\n",
       "      <th>longitude_centroid</th>\n",
       "      <th>userId</th>\n",
       "      <th>venueCategoryId</th>\n",
       "      <th>venueCategory</th>\n",
       "      <th>date</th>\n",
       "      <th>distance_venue_centroid</th>\n",
       "    </tr>\n",
       "  </thead>\n",
       "  <tbody>\n",
       "    <tr>\n",
       "      <th>397185</th>\n",
       "      <td>40.972108</td>\n",
       "      <td>-73.978759</td>\n",
       "      <td>687</td>\n",
       "      <td>40.974382</td>\n",
       "      <td>-73.978416</td>\n",
       "      <td>678</td>\n",
       "      <td>4bf58dd8d48988d163941735</td>\n",
       "      <td>Park</td>\n",
       "      <td>2012-04-29</td>\n",
       "      <td>254.567188</td>\n",
       "    </tr>\n",
       "    <tr>\n",
       "      <th>534817</th>\n",
       "      <td>40.977457</td>\n",
       "      <td>-74.025827</td>\n",
       "      <td>247</td>\n",
       "      <td>40.978845</td>\n",
       "      <td>-74.024877</td>\n",
       "      <td>773</td>\n",
       "      <td>4f2a25ac4b909258e854f55f</td>\n",
       "      <td>Neighborhood</td>\n",
       "      <td>2012-05-10</td>\n",
       "      <td>173.681754</td>\n",
       "    </tr>\n",
       "  </tbody>\n",
       "</table>\n",
       "</div>"
      ],
      "text/plain": [
       "         latitude  longitude  claster  latitude_centroid  longitude_centroid  \\\n",
       "397185  40.972108 -73.978759      687          40.974382          -73.978416   \n",
       "534817  40.977457 -74.025827      247          40.978845          -74.024877   \n",
       "\n",
       "        userId           venueCategoryId venueCategory       date  \\\n",
       "397185     678  4bf58dd8d48988d163941735          Park 2012-04-29   \n",
       "534817     773  4f2a25ac4b909258e854f55f  Neighborhood 2012-05-10   \n",
       "\n",
       "        distance_venue_centroid  \n",
       "397185               254.567188  \n",
       "534817               173.681754  "
      ]
     },
     "execution_count": 24,
     "metadata": {},
     "output_type": "execute_result"
    }
   ],
   "source": [
    "#поиск 2ух ближайших кластеров\n",
    "near_clus = df_cl_all.sort_values(by=['latitude_centroid', 'longitude_centroid']).groupby(['claster']).head(1)\n",
    "near_clus.tail(2)"
   ]
  },
  {
   "cell_type": "code",
   "execution_count": 25,
   "metadata": {},
   "outputs": [
    {
     "data": {
      "text/html": [
       "<div>\n",
       "<style scoped>\n",
       "    .dataframe tbody tr th:only-of-type {\n",
       "        vertical-align: middle;\n",
       "    }\n",
       "\n",
       "    .dataframe tbody tr th {\n",
       "        vertical-align: top;\n",
       "    }\n",
       "\n",
       "    .dataframe thead th {\n",
       "        text-align: right;\n",
       "    }\n",
       "</style>\n",
       "<table border=\"1\" class=\"dataframe\">\n",
       "  <thead>\n",
       "    <tr style=\"text-align: right;\">\n",
       "      <th></th>\n",
       "      <th>latitude</th>\n",
       "      <th>longitude</th>\n",
       "      <th>claster</th>\n",
       "      <th>hue</th>\n",
       "    </tr>\n",
       "  </thead>\n",
       "  <tbody>\n",
       "    <tr>\n",
       "      <th>397185</th>\n",
       "      <td>40.974382</td>\n",
       "      <td>-73.978416</td>\n",
       "      <td>687</td>\n",
       "      <td>centroid</td>\n",
       "    </tr>\n",
       "    <tr>\n",
       "      <th>534817</th>\n",
       "      <td>40.978845</td>\n",
       "      <td>-74.024877</td>\n",
       "      <td>247</td>\n",
       "      <td>centroid</td>\n",
       "    </tr>\n",
       "  </tbody>\n",
       "</table>\n",
       "</div>"
      ],
      "text/plain": [
       "         latitude  longitude  claster       hue\n",
       "397185  40.974382 -73.978416      687  centroid\n",
       "534817  40.978845 -74.024877      247  centroid"
      ]
     },
     "execution_count": 25,
     "metadata": {},
     "output_type": "execute_result"
    }
   ],
   "source": [
    "sc_l = df_cl_all[df_cl_all['claster'].isin([687, 247])][['latitude', 'longitude','claster']]\n",
    "sc_l['hue'] = 'lat_lon'\n",
    "sc_l.columns = ['latitude', 'longitude', 'claster', 'hue']\n",
    "sc_c = df_cl_all[df_cl_all['claster'].isin([687, 247])][['latitude_centroid', 'longitude_centroid','claster']]\n",
    "sc_c['hue'] = 'centroid'\n",
    "sc_c.columns = ['latitude', 'longitude', 'claster', 'hue']\n",
    "sc = pd.concat([sc_c, sc_l], ignore_index=True)\n",
    "sc_c.head(2)"
   ]
  },
  {
   "cell_type": "code",
   "execution_count": 26,
   "metadata": {},
   "outputs": [
    {
     "data": {
      "image/png": "[encoded data removed]",
      "text/plain": [
       "<Figure size 640x480 with 1 Axes>"
      ]
     },
     "metadata": {},
     "output_type": "display_data"
    }
   ],
   "source": [
    "plt.title('Визуализация кластеризации на примере 2ух кластеров')\n",
    "sns.scatterplot(data = sc, x='latitude', y='longitude', hue='claster', style='hue', palette=\"deep\");"
   ]
  },
  {
   "cell_type": "markdown",
   "metadata": {},
   "source": [
    "#### Кластеризация домашних адресов<a id=step9>"
   ]
  },
  {
   "cell_type": "code",
   "execution_count": 27,
   "metadata": {},
   "outputs": [],
   "source": [
    "df_cl_h = df_venue_home.loc[:, ['userId', 'venueCategoryId', 'venueCategory', 'lat_home', 'lon_home', 'date']]\n",
    "df_cl_h = df_cl_h.set_index(['userId', 'venueCategoryId', 'venueCategory', 'date'])"
   ]
  },
  {
   "cell_type": "code",
   "execution_count": 28,
   "metadata": {},
   "outputs": [
    {
     "name": "stderr",
     "output_type": "stream",
     "text": [
      "/Users/julia/anaconda3/lib/python3.10/site-packages/sklearn/cluster/_kmeans.py:870: FutureWarning: The default value of `n_init` will change from 10 to 'auto' in 1.4. Set the value of `n_init` explicitly to suppress the warning\n",
      "  warnings.warn(\n"
     ]
    },
    {
     "data": {
      "text/html": [
       "<style>#sk-container-id-2 {color: black;background-color: white;}#sk-container-id-2 pre{padding: 0;}#sk-container-id-2 div.sk-toggleable {background-color: white;}#sk-container-id-2 label.sk-toggleable__label {cursor: pointer;display: block;width: 100%;margin-bottom: 0;padding: 0.3em;box-sizing: border-box;text-align: center;}#sk-container-id-2 label.sk-toggleable__label-arrow:before {content: \"▸\";float: left;margin-right: 0.25em;color: #696969;}#sk-container-id-2 label.sk-toggleable__label-arrow:hover:before {color: black;}#sk-container-id-2 div.sk-estimator:hover label.sk-toggleable__label-arrow:before {color: black;}#sk-container-id-2 div.sk-toggleable__content {max-height: 0;max-width: 0;overflow: hidden;text-align: left;background-color: #f0f8ff;}#sk-container-id-2 div.sk-toggleable__content pre {margin: 0.2em;color: black;border-radius: 0.25em;background-color: #f0f8ff;}#sk-container-id-2 input.sk-toggleable__control:checked~div.sk-toggleable__content {max-height: 200px;max-width: 100%;overflow: auto;}#sk-container-id-2 input.sk-toggleable__control:checked~label.sk-toggleable__label-arrow:before {content: \"▾\";}#sk-container-id-2 div.sk-estimator input.sk-toggleable__control:checked~label.sk-toggleable__label {background-color: #d4ebff;}#sk-container-id-2 div.sk-label input.sk-toggleable__control:checked~label.sk-toggleable__label {background-color: #d4ebff;}#sk-container-id-2 input.sk-hidden--visually {border: 0;clip: rect(1px 1px 1px 1px);clip: rect(1px, 1px, 1px, 1px);height: 1px;margin: -1px;overflow: hidden;padding: 0;position: absolute;width: 1px;}#sk-container-id-2 div.sk-estimator {font-family: monospace;background-color: #f0f8ff;border: 1px dotted black;border-radius: 0.25em;box-sizing: border-box;margin-bottom: 0.5em;}#sk-container-id-2 div.sk-estimator:hover {background-color: #d4ebff;}#sk-container-id-2 div.sk-parallel-item::after {content: \"\";width: 100%;border-bottom: 1px solid gray;flex-grow: 1;}#sk-container-id-2 div.sk-label:hover label.sk-toggleable__label {background-color: #d4ebff;}#sk-container-id-2 div.sk-serial::before {content: \"\";position: absolute;border-left: 1px solid gray;box-sizing: border-box;top: 0;bottom: 0;left: 50%;z-index: 0;}#sk-container-id-2 div.sk-serial {display: flex;flex-direction: column;align-items: center;background-color: white;padding-right: 0.2em;padding-left: 0.2em;position: relative;}#sk-container-id-2 div.sk-item {position: relative;z-index: 1;}#sk-container-id-2 div.sk-parallel {display: flex;align-items: stretch;justify-content: center;background-color: white;position: relative;}#sk-container-id-2 div.sk-item::before, #sk-container-id-2 div.sk-parallel-item::before {content: \"\";position: absolute;border-left: 1px solid gray;box-sizing: border-box;top: 0;bottom: 0;left: 50%;z-index: -1;}#sk-container-id-2 div.sk-parallel-item {display: flex;flex-direction: column;z-index: 1;position: relative;background-color: white;}#sk-container-id-2 div.sk-parallel-item:first-child::after {align-self: flex-end;width: 50%;}#sk-container-id-2 div.sk-parallel-item:last-child::after {align-self: flex-start;width: 50%;}#sk-container-id-2 div.sk-parallel-item:only-child::after {width: 0;}#sk-container-id-2 div.sk-dashed-wrapped {border: 1px dashed gray;margin: 0 0.4em 0.5em 0.4em;box-sizing: border-box;padding-bottom: 0.4em;background-color: white;}#sk-container-id-2 div.sk-label label {font-family: monospace;font-weight: bold;display: inline-block;line-height: 1.2em;}#sk-container-id-2 div.sk-label-container {text-align: center;}#sk-container-id-2 div.sk-container {/* jupyter's `normalize.less` sets `[hidden] { display: none; }` but bootstrap.min.css set `[hidden] { display: none !important; }` so we also need the `!important` here to be able to override the default hidden behavior on the sphinx rendered scikit-learn.org. See: https://github.com/scikit-learn/scikit-learn/issues/21755 */display: inline-block !important;position: relative;}#sk-container-id-2 div.sk-text-repr-fallback {display: none;}</style><div id=\"sk-container-id-2\" class=\"sk-top-container\"><div class=\"sk-text-repr-fallback\"><pre>KMeans(n_clusters=300, random_state=12345)</pre><b>In a Jupyter environment, please rerun this cell to show the HTML representation or trust the notebook. <br />On GitHub, the HTML representation is unable to render, please try loading this page with nbviewer.org.</b></div><div class=\"sk-container\" hidden><div class=\"sk-item\"><div class=\"sk-estimator sk-toggleable\"><input class=\"sk-toggleable__control sk-hidden--visually\" id=\"sk-estimator-id-2\" type=\"checkbox\" checked><label for=\"sk-estimator-id-2\" class=\"sk-toggleable__label sk-toggleable__label-arrow\">KMeans</label><div class=\"sk-toggleable__content\"><pre>KMeans(n_clusters=300, random_state=12345)</pre></div></div></div></div></div>"
      ],
      "text/plain": [
       "KMeans(n_clusters=300, random_state=12345)"
      ]
     },
     "execution_count": 28,
     "metadata": {},
     "output_type": "execute_result"
    }
   ],
   "source": [
    "model = KMeans(n_clusters=300, random_state=12345)\n",
    "model.fit(df_cl_h)"
   ]
  },
  {
   "cell_type": "code",
   "execution_count": 29,
   "metadata": {},
   "outputs": [],
   "source": [
    "centroids = pd.DataFrame(model.cluster_centers_, columns=['lat_home', 'lon_home'])\n",
    "df_cl_h['label'] = model.labels_.astype(str)\n",
    "centroids = centroids.reset_index()\n",
    "centroids.columns = ['label', 'lat_home', 'lon_home']\n",
    "df_cl_h['label'] = df_cl_h['label'].astype('int')\n",
    "df_cl_all_h = df_cl_h.merge(centroids, how='left', on='label')\n",
    "df_cl_all_h.columns = ['lat_home', 'lon_home', 'claster', 'lat_home_centroid', 'lon_home_centroid']\n",
    "#добавим user_id, date\n",
    "df_cl_h = df_cl_h.reset_index().drop(columns='label')\n",
    "df_cl_all_h = df_cl_all_h.merge(df_cl_h, how='left', on=['lat_home', 'lon_home'])"
   ]
  },
  {
   "cell_type": "code",
   "execution_count": 30,
   "metadata": {},
   "outputs": [
    {
     "data": {
      "text/html": [
       "<div>\n",
       "<style scoped>\n",
       "    .dataframe tbody tr th:only-of-type {\n",
       "        vertical-align: middle;\n",
       "    }\n",
       "\n",
       "    .dataframe tbody tr th {\n",
       "        vertical-align: top;\n",
       "    }\n",
       "\n",
       "    .dataframe thead th {\n",
       "        text-align: right;\n",
       "    }\n",
       "</style>\n",
       "<table border=\"1\" class=\"dataframe\">\n",
       "  <thead>\n",
       "    <tr style=\"text-align: right;\">\n",
       "      <th></th>\n",
       "      <th>userId</th>\n",
       "      <th>lon_home</th>\n",
       "      <th>lat_home_centroid</th>\n",
       "    </tr>\n",
       "  </thead>\n",
       "  <tbody>\n",
       "    <tr>\n",
       "      <th>count</th>\n",
       "      <td>300.000000</td>\n",
       "      <td>300.000000</td>\n",
       "      <td>300.0</td>\n",
       "    </tr>\n",
       "    <tr>\n",
       "      <th>mean</th>\n",
       "      <td>3.506667</td>\n",
       "      <td>5071.646667</td>\n",
       "      <td>1.0</td>\n",
       "    </tr>\n",
       "    <tr>\n",
       "      <th>std</th>\n",
       "      <td>2.836095</td>\n",
       "      <td>16295.410036</td>\n",
       "      <td>0.0</td>\n",
       "    </tr>\n",
       "    <tr>\n",
       "      <th>min</th>\n",
       "      <td>1.000000</td>\n",
       "      <td>3.000000</td>\n",
       "      <td>1.0</td>\n",
       "    </tr>\n",
       "    <tr>\n",
       "      <th>25%</th>\n",
       "      <td>2.000000</td>\n",
       "      <td>287.000000</td>\n",
       "      <td>1.0</td>\n",
       "    </tr>\n",
       "    <tr>\n",
       "      <th>50%</th>\n",
       "      <td>3.000000</td>\n",
       "      <td>901.000000</td>\n",
       "      <td>1.0</td>\n",
       "    </tr>\n",
       "    <tr>\n",
       "      <th>75%</th>\n",
       "      <td>4.000000</td>\n",
       "      <td>2971.000000</td>\n",
       "      <td>1.0</td>\n",
       "    </tr>\n",
       "    <tr>\n",
       "      <th>max</th>\n",
       "      <td>26.000000</td>\n",
       "      <td>204320.000000</td>\n",
       "      <td>1.0</td>\n",
       "    </tr>\n",
       "  </tbody>\n",
       "</table>\n",
       "</div>"
      ],
      "text/plain": [
       "           userId       lon_home  lat_home_centroid\n",
       "count  300.000000     300.000000              300.0\n",
       "mean     3.506667    5071.646667                1.0\n",
       "std      2.836095   16295.410036                0.0\n",
       "min      1.000000       3.000000                1.0\n",
       "25%      2.000000     287.000000                1.0\n",
       "50%      3.000000     901.000000                1.0\n",
       "75%      4.000000    2971.000000                1.0\n",
       "max     26.000000  204320.000000                1.0"
      ]
     },
     "execution_count": 30,
     "metadata": {},
     "output_type": "execute_result"
    }
   ],
   "source": [
    "#посмотрим на распределение кол-ва координат и пользователей в каждом кластере\n",
    "df_cl_all_h.groupby(['claster']).agg({'userId':'nunique',\n",
    "                                    'lon_home':'count', 'lat_home_centroid':'nunique'}).describe()"
   ]
  },
  {
   "cell_type": "markdown",
   "metadata": {},
   "source": [
    "#### Расстояние в метрах между центроидом и домашними координатами"
   ]
  },
  {
   "cell_type": "code",
   "execution_count": 31,
   "metadata": {},
   "outputs": [],
   "source": [
    "df_cl_all_h['distance_home_centroid'] = df_cl_all_h.apply(d, axis=1)"
   ]
  },
  {
   "cell_type": "code",
   "execution_count": 32,
   "metadata": {},
   "outputs": [
    {
     "data": {
      "text/plain": [
       "array([ 0.        ,  4.04137756, 12.72147395, 93.02706733])"
      ]
     },
     "execution_count": 32,
     "metadata": {},
     "output_type": "execute_result"
    }
   ],
   "source": [
    "np.percentile(df_cl_all_h['distance_home_centroid'], [25, 50, 75, 95])"
   ]
  },
  {
   "cell_type": "code",
   "execution_count": 33,
   "metadata": {},
   "outputs": [
    {
     "data": {
      "text/html": [
       "<div>\n",
       "<style scoped>\n",
       "    .dataframe tbody tr th:only-of-type {\n",
       "        vertical-align: middle;\n",
       "    }\n",
       "\n",
       "    .dataframe tbody tr th {\n",
       "        vertical-align: top;\n",
       "    }\n",
       "\n",
       "    .dataframe thead th {\n",
       "        text-align: right;\n",
       "    }\n",
       "</style>\n",
       "<table border=\"1\" class=\"dataframe\">\n",
       "  <thead>\n",
       "    <tr style=\"text-align: right;\">\n",
       "      <th></th>\n",
       "      <th>count</th>\n",
       "      <th>mean</th>\n",
       "      <th>std</th>\n",
       "      <th>min</th>\n",
       "      <th>25%</th>\n",
       "      <th>50%</th>\n",
       "      <th>75%</th>\n",
       "      <th>max</th>\n",
       "    </tr>\n",
       "  </thead>\n",
       "  <tbody>\n",
       "    <tr>\n",
       "      <th>claster</th>\n",
       "      <td>564.0</td>\n",
       "      <td>1.865248</td>\n",
       "      <td>1.276762</td>\n",
       "      <td>1.0</td>\n",
       "      <td>1.0</td>\n",
       "      <td>1.0</td>\n",
       "      <td>2.0</td>\n",
       "      <td>10.0</td>\n",
       "    </tr>\n",
       "  </tbody>\n",
       "</table>\n",
       "</div>"
      ],
      "text/plain": [
       "         count      mean       std  min  25%  50%  75%   max\n",
       "claster  564.0  1.865248  1.276762  1.0  1.0  1.0  2.0  10.0"
      ]
     },
     "execution_count": 33,
     "metadata": {},
     "output_type": "execute_result"
    }
   ],
   "source": [
    "df_cl_all_h = df_cl_all_h.loc[:, ['userId', 'lat_home_centroid'\n",
    "                                  , 'lon_home_centroid', 'claster', 'date']].drop_duplicates()\n",
    "df_cl_all_h.groupby(['userId']).agg({'claster':'nunique'}).describe().T"
   ]
  },
  {
   "cell_type": "markdown",
   "metadata": {},
   "source": [
    "У 25% пользователей 2 и более кластера на домашний адрес, возможно, что они отмечают статус дома не только находясь у себя дома. Проанализируем распределение количества событий по разным адресам и определим для 1 пользователя 1 домашний адрес по наибольшему числу событий в нем"
   ]
  },
  {
   "cell_type": "markdown",
   "metadata": {},
   "source": [
    "#### Определение для каждого пользователя одного адреса в качестве домашнего<a id=step10>"
   ]
  },
  {
   "cell_type": "code",
   "execution_count": 34,
   "metadata": {
    "scrolled": true
   },
   "outputs": [
    {
     "data": {
      "text/plain": [
       "[(0.0, 75.0)]"
      ]
     },
     "execution_count": 34,
     "metadata": {},
     "output_type": "execute_result"
    },
    {
     "data": {
      "image/png": "[encoded data removed]",
      "text/plain": [
       "<Figure size 1000x300 with 1 Axes>"
      ]
     },
     "metadata": {},
     "output_type": "display_data"
    }
   ],
   "source": [
    "count_venue_h = df_cl_all_h.groupby(['userId', 'claster']).agg({'date':'count'}).reset_index()\n",
    "plt.figure(figsize=(10,3))\n",
    "plt.title('Распределение кол-ва домашних адресов пользователей по кластерам')\n",
    "ax = sns.histplot(count_venue_h['date'], kde=True) \n",
    "ax.set(xlim=(0, 75))"
   ]
  },
  {
   "cell_type": "code",
   "execution_count": 35,
   "metadata": {},
   "outputs": [],
   "source": [
    "#для каждого пользователя оставим домашний адрес с наибольшим кол-вом событий\n",
    "df_cl_all_h = (df_cl_all_h.groupby(['userId','claster','lat_home_centroid', 'lon_home_centroid'])\n",
    "               .agg({'date':'count'}).reset_index()\n",
    "               .sort_values(by=['userId','date'], ascending=False))\n",
    "df_cl_all_h = df_cl_all_h.groupby(['userId']).head(1)"
   ]
  },
  {
   "cell_type": "code",
   "execution_count": 36,
   "metadata": {},
   "outputs": [
    {
     "data": {
      "text/plain": [
       "claster  nunique    1\n",
       "dtype: int64"
      ]
     },
     "execution_count": 36,
     "metadata": {},
     "output_type": "execute_result"
    }
   ],
   "source": [
    "#проверка, что у 1 пользователя только 1 домашний адрес\n",
    "df_cl_all_h.groupby(['userId']).agg({'claster':['nunique']}).max()"
   ]
  },
  {
   "cell_type": "markdown",
   "metadata": {},
   "source": [
    "#### Добавим центры кластеров домашних адресов пользователей в таблицу c результатами кластеризации событий"
   ]
  },
  {
   "cell_type": "code",
   "execution_count": 37,
   "metadata": {},
   "outputs": [],
   "source": [
    "df_clust_home_venue = df_cl_all.merge(df_cl_all_h.loc[:, ['userId', 'lat_home_centroid', 'lon_home_centroid']]\n",
    "                                , how='left', on = ['userId'])"
   ]
  },
  {
   "cell_type": "code",
   "execution_count": 38,
   "metadata": {},
   "outputs": [],
   "source": [
    "df_clust_home_venue['latitude'] = df_clust_home_venue['lat_home_centroid']\n",
    "df_clust_home_venue['longitude'] = df_clust_home_venue['lon_home_centroid']\n",
    "df_clust_home_venue.rename(columns={'latitude':'lat_home_centroid', 'longitude':'lon_home_centroid'}, inplace=True)\n",
    "df_clust_home_venue = df_clust_home_venue.iloc[:, :10]"
   ]
  },
  {
   "cell_type": "code",
   "execution_count": 39,
   "metadata": {
    "scrolled": true
   },
   "outputs": [
    {
     "data": {
      "text/html": [
       "<div>\n",
       "<style scoped>\n",
       "    .dataframe tbody tr th:only-of-type {\n",
       "        vertical-align: middle;\n",
       "    }\n",
       "\n",
       "    .dataframe tbody tr th {\n",
       "        vertical-align: top;\n",
       "    }\n",
       "\n",
       "    .dataframe thead th {\n",
       "        text-align: right;\n",
       "    }\n",
       "</style>\n",
       "<table border=\"1\" class=\"dataframe\">\n",
       "  <thead>\n",
       "    <tr style=\"text-align: right;\">\n",
       "      <th></th>\n",
       "      <th>lat_home_centroid</th>\n",
       "      <th>lon_home_centroid</th>\n",
       "      <th>claster</th>\n",
       "      <th>latitude_centroid</th>\n",
       "      <th>longitude_centroid</th>\n",
       "      <th>userId</th>\n",
       "      <th>venueCategoryId</th>\n",
       "      <th>venueCategory</th>\n",
       "      <th>date</th>\n",
       "      <th>distance_venue_centroid</th>\n",
       "    </tr>\n",
       "  </thead>\n",
       "  <tbody>\n",
       "    <tr>\n",
       "      <th>0</th>\n",
       "      <td>40.762539</td>\n",
       "      <td>-74.000633</td>\n",
       "      <td>779</td>\n",
       "      <td>40.746023</td>\n",
       "      <td>-73.981627</td>\n",
       "      <td>395</td>\n",
       "      <td>4bf58dd8d48988d104941735</td>\n",
       "      <td>Medical Center</td>\n",
       "      <td>2012-04-03</td>\n",
       "      <td>121.543900</td>\n",
       "    </tr>\n",
       "    <tr>\n",
       "      <th>1</th>\n",
       "      <td>40.756895</td>\n",
       "      <td>-73.965371</td>\n",
       "      <td>658</td>\n",
       "      <td>40.741668</td>\n",
       "      <td>-73.989308</td>\n",
       "      <td>87</td>\n",
       "      <td>4bf58dd8d48988d1cb941735</td>\n",
       "      <td>Food Truck</td>\n",
       "      <td>2012-04-03</td>\n",
       "      <td>176.433269</td>\n",
       "    </tr>\n",
       "  </tbody>\n",
       "</table>\n",
       "</div>"
      ],
      "text/plain": [
       "   lat_home_centroid  lon_home_centroid  claster  latitude_centroid  \\\n",
       "0          40.762539         -74.000633      779          40.746023   \n",
       "1          40.756895         -73.965371      658          40.741668   \n",
       "\n",
       "   longitude_centroid  userId           venueCategoryId   venueCategory  \\\n",
       "0          -73.981627     395  4bf58dd8d48988d104941735  Medical Center   \n",
       "1          -73.989308      87  4bf58dd8d48988d1cb941735      Food Truck   \n",
       "\n",
       "        date  distance_venue_centroid  \n",
       "0 2012-04-03               121.543900  \n",
       "1 2012-04-03               176.433269  "
      ]
     },
     "execution_count": 39,
     "metadata": {},
     "output_type": "execute_result"
    }
   ],
   "source": [
    "df_clust_home_venue.head(2)"
   ]
  },
  {
   "cell_type": "markdown",
   "metadata": {},
   "source": [
    "### Определение типа локаций, которые пользователи чаще посещают близко / далеко от дома<a id=step11>"
   ]
  },
  {
   "cell_type": "markdown",
   "metadata": {},
   "source": [
    "#### Расстояние от центра кластера дом до центра кластера локаций для каждого пользователя<a id=step12>"
   ]
  },
  {
   "cell_type": "code",
   "execution_count": 40,
   "metadata": {},
   "outputs": [],
   "source": [
    "df_clust_home_venue['distance_venue_home'] = df_clust_home_venue.apply(d, axis=1)"
   ]
  },
  {
   "cell_type": "code",
   "execution_count": 41,
   "metadata": {},
   "outputs": [
    {
     "data": {
      "text/plain": [
       "array([  643.01404416,  1878.95265186,  5555.15816046, 12428.29987226,\n",
       "       15725.08985319, 21209.53814098])"
      ]
     },
     "execution_count": 41,
     "metadata": {},
     "output_type": "execute_result"
    }
   ],
   "source": [
    "np.percentile(df_clust_home_venue['distance_venue_home'], [10, 25, 50, 75, 85, 95])"
   ]
  },
  {
   "cell_type": "markdown",
   "metadata": {},
   "source": [
    "#### Как далеко от дома пользователи посещают разного типа локации"
   ]
  },
  {
   "cell_type": "code",
   "execution_count": 42,
   "metadata": {},
   "outputs": [
    {
     "data": {
      "text/plain": [
       "248"
      ]
     },
     "execution_count": 42,
     "metadata": {},
     "output_type": "execute_result"
    }
   ],
   "source": [
    "df_clust_home_venue['venueCategory'].nunique()"
   ]
  },
  {
   "cell_type": "markdown",
   "metadata": {},
   "source": [
    "Так как видов локаций 248, для визуализации выберем топ 15 самых удаленных и самых близких к дому которые выбирают для посещение наибольшее количество пользователей "
   ]
  },
  {
   "cell_type": "code",
   "execution_count": 43,
   "metadata": {},
   "outputs": [
    {
     "data": {
      "text/html": [
       "<div>\n",
       "<style scoped>\n",
       "    .dataframe tbody tr th:only-of-type {\n",
       "        vertical-align: middle;\n",
       "    }\n",
       "\n",
       "    .dataframe tbody tr th {\n",
       "        vertical-align: top;\n",
       "    }\n",
       "\n",
       "    .dataframe thead th {\n",
       "        text-align: right;\n",
       "    }\n",
       "</style>\n",
       "<table border=\"1\" class=\"dataframe\">\n",
       "  <thead>\n",
       "    <tr style=\"text-align: right;\">\n",
       "      <th></th>\n",
       "      <th>distance_venue_home</th>\n",
       "      <th>userId</th>\n",
       "    </tr>\n",
       "  </thead>\n",
       "  <tbody>\n",
       "    <tr>\n",
       "      <th>count</th>\n",
       "      <td>248.000000</td>\n",
       "      <td>248.000000</td>\n",
       "    </tr>\n",
       "    <tr>\n",
       "      <th>mean</th>\n",
       "      <td>5639.229394</td>\n",
       "      <td>91.129032</td>\n",
       "    </tr>\n",
       "    <tr>\n",
       "      <th>std</th>\n",
       "      <td>3114.065726</td>\n",
       "      <td>105.209140</td>\n",
       "    </tr>\n",
       "    <tr>\n",
       "      <th>min</th>\n",
       "      <td>432.298260</td>\n",
       "      <td>1.000000</td>\n",
       "    </tr>\n",
       "    <tr>\n",
       "      <th>25%</th>\n",
       "      <td>3643.916287</td>\n",
       "      <td>14.000000</td>\n",
       "    </tr>\n",
       "    <tr>\n",
       "      <th>50%</th>\n",
       "      <td>4985.479977</td>\n",
       "      <td>49.000000</td>\n",
       "    </tr>\n",
       "    <tr>\n",
       "      <th>75%</th>\n",
       "      <td>6762.124433</td>\n",
       "      <td>127.000000</td>\n",
       "    </tr>\n",
       "    <tr>\n",
       "      <th>max</th>\n",
       "      <td>20815.367491</td>\n",
       "      <td>486.000000</td>\n",
       "    </tr>\n",
       "  </tbody>\n",
       "</table>\n",
       "</div>"
      ],
      "text/plain": [
       "       distance_venue_home      userId\n",
       "count           248.000000  248.000000\n",
       "mean           5639.229394   91.129032\n",
       "std            3114.065726  105.209140\n",
       "min             432.298260    1.000000\n",
       "25%            3643.916287   14.000000\n",
       "50%            4985.479977   49.000000\n",
       "75%            6762.124433  127.000000\n",
       "max           20815.367491  486.000000"
      ]
     },
     "execution_count": 43,
     "metadata": {},
     "output_type": "execute_result"
    }
   ],
   "source": [
    "venue_cat = (df_clust_home_venue.groupby(['userId', 'venueCategory']).agg({'distance_venue_home':'median'})\n",
    " .reset_index().groupby('venueCategory').agg({'distance_venue_home':'median', 'userId':'nunique'})\n",
    " .reset_index().sort_values(by=['userId', 'distance_venue_home'], ascending=False))\n",
    "venue_cat.describe()"
   ]
  },
  {
   "cell_type": "markdown",
   "metadata": {},
   "source": [
    "50% локаций посетило не менее 49 пользователей, помотрим топ 15 ближних и дальних от дома по этим пользователям  "
   ]
  },
  {
   "cell_type": "code",
   "execution_count": 44,
   "metadata": {},
   "outputs": [
    {
     "data": {
      "text/html": [
       "<div>\n",
       "<style scoped>\n",
       "    .dataframe tbody tr th:only-of-type {\n",
       "        vertical-align: middle;\n",
       "    }\n",
       "\n",
       "    .dataframe tbody tr th {\n",
       "        vertical-align: top;\n",
       "    }\n",
       "\n",
       "    .dataframe thead th {\n",
       "        text-align: right;\n",
       "    }\n",
       "</style>\n",
       "<table border=\"1\" class=\"dataframe\">\n",
       "  <thead>\n",
       "    <tr style=\"text-align: right;\">\n",
       "      <th></th>\n",
       "      <th>venueCategory</th>\n",
       "      <th>distance_venue_home</th>\n",
       "      <th>userId</th>\n",
       "      <th>rank</th>\n",
       "    </tr>\n",
       "  </thead>\n",
       "  <tbody>\n",
       "    <tr>\n",
       "      <th>132</th>\n",
       "      <td>Laundry Service</td>\n",
       "      <td>1051.598986</td>\n",
       "      <td>131</td>\n",
       "      <td>1</td>\n",
       "    </tr>\n",
       "    <tr>\n",
       "      <th>75</th>\n",
       "      <td>Drugstore / Pharmacy</td>\n",
       "      <td>1847.217410</td>\n",
       "      <td>298</td>\n",
       "      <td>2</td>\n",
       "    </tr>\n",
       "    <tr>\n",
       "      <th>182</th>\n",
       "      <td>Post Office</td>\n",
       "      <td>2078.550830</td>\n",
       "      <td>140</td>\n",
       "      <td>3</td>\n",
       "    </tr>\n",
       "    <tr>\n",
       "      <th>142</th>\n",
       "      <td>Mediterranean Restaurant</td>\n",
       "      <td>2392.465960</td>\n",
       "      <td>61</td>\n",
       "      <td>4</td>\n",
       "    </tr>\n",
       "    <tr>\n",
       "      <th>196</th>\n",
       "      <td>Salon / Barbershop</td>\n",
       "      <td>2733.762399</td>\n",
       "      <td>233</td>\n",
       "      <td>5</td>\n",
       "    </tr>\n",
       "  </tbody>\n",
       "</table>\n",
       "</div>"
      ],
      "text/plain": [
       "                venueCategory  distance_venue_home  userId  rank\n",
       "132           Laundry Service          1051.598986     131     1\n",
       "75       Drugstore / Pharmacy          1847.217410     298     2\n",
       "182               Post Office          2078.550830     140     3\n",
       "142  Mediterranean Restaurant          2392.465960      61     4\n",
       "196        Salon / Barbershop          2733.762399     233     5"
      ]
     },
     "execution_count": 44,
     "metadata": {},
     "output_type": "execute_result"
    }
   ],
   "source": [
    "#проранжируем категории локаций по удаленности от дома для каждого пользователя\n",
    "venue_cat = venue_cat[venue_cat['userId']> 49].sort_values(by=['distance_venue_home'], ascending=True)\n",
    "venue_cat['rank'] = venue_cat['distance_venue_home'].rank(method='min').astype(int)\n",
    "venue_cat.head()"
   ]
  },
  {
   "cell_type": "markdown",
   "metadata": {},
   "source": [
    "#### Топ 15 самых ближних часто посещаемых к дому локаций.<a id=step13>"
   ]
  },
  {
   "cell_type": "code",
   "execution_count": 45,
   "metadata": {},
   "outputs": [],
   "source": [
    "top_15 = venue_cat['venueCategory'].head(15).to_list()"
   ]
  },
  {
   "cell_type": "code",
   "execution_count": 46,
   "metadata": {
    "scrolled": false
   },
   "outputs": [
    {
     "data": {
      "image/png": "[encoded data removed]",
      "text/plain": [
       "<Figure size 1500x700 with 1 Axes>"
      ]
     },
     "metadata": {},
     "output_type": "display_data"
    }
   ],
   "source": [
    "plt.figure(figsize=(15, 7))\n",
    "plt.xlim(0, 20000)\n",
    "sns.boxplot(y='venueCategory', x='distance_venue_home'\n",
    "            ,data=df_clust_home_venue.query('venueCategory in @top_15'), order=top_15);"
   ]
  },
  {
   "cell_type": "code",
   "execution_count": 50,
   "metadata": {},
   "outputs": [
    {
     "data": {
      "text/plain": [
       "array([  443.15074562,   794.17676904,  2364.89566367,  6830.3534737 ,\n",
       "        9420.06720882, 15093.87282787])"
      ]
     },
     "execution_count": 50,
     "metadata": {},
     "output_type": "execute_result"
    }
   ],
   "source": [
    "top = df_clust_home_venue.query('venueCategory in @top_15')\n",
    "np.percentile(top['distance_venue_home'], [10, 25, 50, 75, 85, 95])"
   ]
  },
  {
   "cell_type": "markdown",
   "metadata": {},
   "source": [
    "#### Топ 15 самых удаленных часто посещаемых от дома локаций<a id=step14>"
   ]
  },
  {
   "cell_type": "code",
   "execution_count": 47,
   "metadata": {},
   "outputs": [],
   "source": [
    "bottom_15 = venue_cat['venueCategory'].tail(15).to_list()"
   ]
  },
  {
   "cell_type": "code",
   "execution_count": 48,
   "metadata": {
    "scrolled": false
   },
   "outputs": [
    {
     "data": {
      "image/png": "[encoded data removed]",
      "text/plain": [
       "<Figure size 1500x700 with 1 Axes>"
      ]
     },
     "metadata": {},
     "output_type": "display_data"
    }
   ],
   "source": [
    "plt.figure(figsize=(15, 7))\n",
    "sns.boxplot(y='venueCategory', x='distance_venue_home'\n",
    "            ,data=df_clust_home_venue.query('venueCategory in @bottom_15'), order=bottom_15);"
   ]
  },
  {
   "cell_type": "code",
   "execution_count": 52,
   "metadata": {},
   "outputs": [
    {
     "data": {
      "text/plain": [
       "array([ 1146.9296654 ,  3561.43911158,  9717.27915862, 17077.45300308,\n",
       "       20076.30322209, 23742.68323227])"
      ]
     },
     "execution_count": 52,
     "metadata": {},
     "output_type": "execute_result"
    }
   ],
   "source": [
    "bottom = df_clust_home_venue.query('venueCategory in @bottom_15')\n",
    "np.percentile(bottom['distance_venue_home'], [10, 25, 50, 75, 85, 95])"
   ]
  },
  {
   "cell_type": "markdown",
   "metadata": {},
   "source": [
    "### Выводы<a id=step15>"
   ]
  },
  {
   "cell_type": "markdown",
   "metadata": {},
   "source": [
    "Мы проанализировали данные 248 типов локаций Нью-Йорка, в которых 564 пользователя отмечались в течение года. \n",
    "Прокласторизовали координаты домашних событий и отметок локаций вне дома, чтобы иметь для одной локации 1 координату, без учета погрешности на смещения методом KMean. \n",
    "Исключили аномальных пользователей, которые по имеющимся данным отмечались в более, чем 15 локациях в течение дня.\n",
    "Для 25% пользователей, отмечающихся дома по разным адресам определели один домашний адрес.\n",
    "По результатам проведенного анализа можно сделать следующие выводы:  \n",
    "- Наиболее часто пользователи посещали недалеко от дома такие локации, как: \n",
    " аптека, прачечная, почта, парихмахерская, заправка, рестораны средиземноморской, корейской кухонь, продуктовые малого формата, пекарни.  \n",
    "50% пользователей для этих целей не удалялись от дома более, чем на 2.3 км.\n",
    "- Наиболее часто пользователи посещали на удалении от дома такие локации, как: магазины игрушек, развлечений, гавань, стадион, аэропорт, концертный зал, совершали прогулки на свежем воздухе, бляж. Что примечательно, в топ 15 отдаленных от дома локаций не входят заведения общественного питания.  \n",
    "50% пользователей для этих целей удалялись от дома более, чем на 9.7 км.\n"
   ]
  },
  {
   "cell_type": "code",
   "execution_count": null,
   "metadata": {},
   "outputs": [],
   "source": []
  }
 ],
 "metadata": {
  "kernelspec": {
   "display_name": "Python 3 (ipykernel)",
   "language": "python",
   "name": "python3"
  },
  "language_info": {
   "codemirror_mode": {
    "name": "ipython",
    "version": 3
   },
   "file_extension": ".py",
   "mimetype": "text/x-python",
   "name": "python",
   "nbconvert_exporter": "python",
   "pygments_lexer": "ipython3",
   "version": "3.10.9"
  }
 },
 "nbformat": 4,
 "nbformat_minor": 4
}
